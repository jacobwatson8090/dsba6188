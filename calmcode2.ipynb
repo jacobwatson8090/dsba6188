{
  "nbformat": 4,
  "nbformat_minor": 0,
  "metadata": {
    "colab": {
      "provenance": []
    },
    "kernelspec": {
      "name": "python3",
      "display_name": "Python 3"
    },
    "language_info": {
      "name": "python"
    }
  },
  "cells": [
    {
      "cell_type": "code",
      "source": [
        "### comprehensions\n",
        "\n",
        "#new list from old list\n",
        "old_list = [1, 2, 3, 4, 5]\n",
        "new_list = []\n",
        "for i in old_list:\n",
        "    new_list.append(i * 2)\n",
        "new_list\n",
        "\n"
      ],
      "metadata": {
        "colab": {
          "base_uri": "https://localhost:8080/"
        },
        "id": "T2wPgliX4czF",
        "outputId": "c8c4247f-817a-43cd-f167-d569d6fe7221"
      },
      "execution_count": 12,
      "outputs": [
        {
          "output_type": "execute_result",
          "data": {
            "text/plain": [
              "[2, 4, 6, 8, 10]"
            ]
          },
          "metadata": {},
          "execution_count": 12
        }
      ]
    },
    {
      "cell_type": "code",
      "source": [
        "#single line doubling\n",
        "\n",
        "[i * 2 for i in old_list]\n"
      ],
      "metadata": {
        "colab": {
          "base_uri": "https://localhost:8080/"
        },
        "id": "KCwrU8nY8MtH",
        "outputId": "a6e6cec4-4dd9-4075-dbb3-8c6d0d16ec69"
      },
      "execution_count": 11,
      "outputs": [
        {
          "output_type": "execute_result",
          "data": {
            "text/plain": [
              "[2, 4, 6, 8, 10]"
            ]
          },
          "metadata": {},
          "execution_count": 11
        }
      ]
    },
    {
      "cell_type": "code",
      "source": [
        "# IF statements\n",
        "\n",
        "[i for i in range(16) if i % 2 == 0]\n"
      ],
      "metadata": {
        "colab": {
          "base_uri": "https://localhost:8080/"
        },
        "id": "E4R2pycR8XRO",
        "outputId": "45efa444-84b2-4e68-f7c3-3bd11a0f0fff"
      },
      "execution_count": 13,
      "outputs": [
        {
          "output_type": "execute_result",
          "data": {
            "text/plain": [
              "[0, 2, 4, 6, 8, 10, 12, 14]"
            ]
          },
          "metadata": {},
          "execution_count": 13
        }
      ]
    },
    {
      "cell_type": "code",
      "source": [
        "[i if i % 2 == 0 else i * 2 for i in range(16)]\n"
      ],
      "metadata": {
        "colab": {
          "base_uri": "https://localhost:8080/"
        },
        "id": "bsz12VmJ8cjv",
        "outputId": "b0dbc7ae-773c-4bc6-8089-98b12886cf8a"
      },
      "execution_count": 14,
      "outputs": [
        {
          "output_type": "execute_result",
          "data": {
            "text/plain": [
              "[0, 2, 2, 6, 4, 10, 6, 14, 8, 18, 10, 22, 12, 26, 14, 30]"
            ]
          },
          "metadata": {},
          "execution_count": 14
        }
      ]
    },
    {
      "cell_type": "code",
      "source": [
        "#combining\n",
        "\n",
        "[i if i % 2 == 0 else i * 2 for i in range(16) if i % 3 == 0]\n"
      ],
      "metadata": {
        "colab": {
          "base_uri": "https://localhost:8080/"
        },
        "id": "Y2RSCSOI8epN",
        "outputId": "6124af8b-2929-4de7-a2d8-f737c7620197"
      },
      "execution_count": 15,
      "outputs": [
        {
          "output_type": "execute_result",
          "data": {
            "text/plain": [
              "[0, 6, 6, 18, 12, 30]"
            ]
          },
          "metadata": {},
          "execution_count": 15
        }
      ]
    },
    {
      "cell_type": "code",
      "source": [
        "## SIMPLIFYING\n",
        "\n",
        "old_list = 'abcde'\n",
        "new_list = []\n",
        "for i in range(len(old_list)):\n",
        "    if i % 2 == 0:\n",
        "        new_list.append(old_list[i])\n",
        "new_list\n"
      ],
      "metadata": {
        "colab": {
          "base_uri": "https://localhost:8080/"
        },
        "id": "Q8i8i_6S8g3u",
        "outputId": "328e3864-f87d-4655-8d54-f3b90fec42a3"
      },
      "execution_count": 16,
      "outputs": [
        {
          "output_type": "execute_result",
          "data": {
            "text/plain": [
              "['a', 'c', 'e']"
            ]
          },
          "metadata": {},
          "execution_count": 16
        }
      ]
    },
    {
      "cell_type": "code",
      "source": [
        "# now in one line\n",
        "[char for idx, char in enumerate('abcde') if idx % 2 == 0]\n"
      ],
      "metadata": {
        "colab": {
          "base_uri": "https://localhost:8080/"
        },
        "id": "B75SFKDZ8hb8",
        "outputId": "8acf8dd5-08d7-4f98-b874-0f6c233bf97a"
      },
      "execution_count": 17,
      "outputs": [
        {
          "output_type": "execute_result",
          "data": {
            "text/plain": [
              "['a', 'c', 'e']"
            ]
          },
          "metadata": {},
          "execution_count": 17
        }
      ]
    },
    {
      "cell_type": "code",
      "source": [
        "## Try it\n",
        "\n",
        "old_list = 'abcde'\n",
        "new_list = []\n",
        "for i, c in enumerate(old_list):\n",
        "    if i % 2 == 0:\n",
        "        if c in 'aeuio':\n",
        "            char = c.upper()\n",
        "        else:\n",
        "            char = c\n",
        "        new_list.append(char)\n",
        "new_list\n"
      ],
      "metadata": {
        "colab": {
          "base_uri": "https://localhost:8080/"
        },
        "id": "xk9CZlah8q9V",
        "outputId": "221859d7-549d-4bda-81b1-b873665e148d"
      },
      "execution_count": 20,
      "outputs": [
        {
          "output_type": "execute_result",
          "data": {
            "text/plain": [
              "['A', 'c', 'E']"
            ]
          },
          "metadata": {},
          "execution_count": 20
        }
      ]
    },
    {
      "cell_type": "code",
      "source": [
        "# ok\n",
        "\n",
        "[c.upper() if c in 'aeuio' else c\n",
        "for i, c in enumerate(old_list)\n",
        "if i % 2 == 0]"
      ],
      "metadata": {
        "colab": {
          "base_uri": "https://localhost:8080/"
        },
        "id": "XUS5P9_q8xbD",
        "outputId": "4d8c4c2c-6452-4ebb-ec41-ebc4af273506"
      },
      "execution_count": 21,
      "outputs": [
        {
          "output_type": "execute_result",
          "data": {
            "text/plain": [
              "['A', 'c', 'E']"
            ]
          },
          "metadata": {},
          "execution_count": 21
        }
      ]
    },
    {
      "cell_type": "code",
      "source": [
        "# Nest\n",
        "for i in range(5):\n",
        "    for j in range(i):\n",
        "        print((i, j))\n"
      ],
      "metadata": {
        "colab": {
          "base_uri": "https://localhost:8080/"
        },
        "id": "1ig0O2ME9WHl",
        "outputId": "bb3dcb0a-bb82-4945-a262-796a9ff48072"
      },
      "execution_count": 22,
      "outputs": [
        {
          "output_type": "stream",
          "name": "stdout",
          "text": [
            "(1, 0)\n",
            "(2, 0)\n",
            "(2, 1)\n",
            "(3, 0)\n",
            "(3, 1)\n",
            "(3, 2)\n",
            "(4, 0)\n",
            "(4, 1)\n",
            "(4, 2)\n",
            "(4, 3)\n"
          ]
        }
      ]
    },
    {
      "cell_type": "code",
      "source": [
        "# compred\n",
        "[(i, j) for i in range(5) for j in range(i)]\n"
      ],
      "metadata": {
        "colab": {
          "base_uri": "https://localhost:8080/"
        },
        "id": "VdUekYO_9ZJG",
        "outputId": "8588090f-d686-4ce6-8d7f-0f39408c5da7"
      },
      "execution_count": 23,
      "outputs": [
        {
          "output_type": "execute_result",
          "data": {
            "text/plain": [
              "[(1, 0),\n",
              " (2, 0),\n",
              " (2, 1),\n",
              " (3, 0),\n",
              " (3, 1),\n",
              " (3, 2),\n",
              " (4, 0),\n",
              " (4, 1),\n",
              " (4, 2),\n",
              " (4, 3)]"
            ]
          },
          "metadata": {},
          "execution_count": 23
        }
      ]
    },
    {
      "cell_type": "code",
      "source": [
        "#loops\n",
        "\n",
        "for i in range(5):\n",
        "    if i > 2:\n",
        "        for j in range(i):\n",
        "            if j < 2:\n",
        "                print((i, j))\n"
      ],
      "metadata": {
        "colab": {
          "base_uri": "https://localhost:8080/"
        },
        "id": "6HeQM-L-9bfF",
        "outputId": "de9e53b4-3690-40c8-df31-f11db2ddce15"
      },
      "execution_count": 24,
      "outputs": [
        {
          "output_type": "stream",
          "name": "stdout",
          "text": [
            "(3, 0)\n",
            "(3, 1)\n",
            "(4, 0)\n",
            "(4, 1)\n"
          ]
        }
      ]
    },
    {
      "cell_type": "code",
      "source": [
        "#compred\n",
        "[(i, j) for i in range(5) if i > 2 for j in range(i) if j < 2]\n"
      ],
      "metadata": {
        "colab": {
          "base_uri": "https://localhost:8080/"
        },
        "id": "V-dbkBlT9c2r",
        "outputId": "518e5e09-2fa1-4019-e5aa-21fee87bb715"
      },
      "execution_count": 25,
      "outputs": [
        {
          "output_type": "execute_result",
          "data": {
            "text/plain": [
              "[(3, 0), (3, 1), (4, 0), (4, 1)]"
            ]
          },
          "metadata": {},
          "execution_count": 25
        }
      ]
    },
    {
      "cell_type": "code",
      "source": [
        "#list\n",
        "[c for i, c in enumerate('abceabce') if i < 5]\n"
      ],
      "metadata": {
        "colab": {
          "base_uri": "https://localhost:8080/"
        },
        "id": "7daCUoil9hGt",
        "outputId": "5184822d-3983-4f62-e0df-e8449a7d7a18"
      },
      "execution_count": 26,
      "outputs": [
        {
          "output_type": "execute_result",
          "data": {
            "text/plain": [
              "['a', 'b', 'c', 'e', 'a']"
            ]
          },
          "metadata": {},
          "execution_count": 26
        }
      ]
    },
    {
      "cell_type": "code",
      "source": [
        "#comp\n",
        "{c for i, c in enumerate('abceabce')}\n"
      ],
      "metadata": {
        "colab": {
          "base_uri": "https://localhost:8080/"
        },
        "id": "Ak6cZ6vN9kYM",
        "outputId": "649a893b-8890-4482-cca7-4b4b8cb8cf05"
      },
      "execution_count": 27,
      "outputs": [
        {
          "output_type": "execute_result",
          "data": {
            "text/plain": [
              "{'a', 'b', 'c', 'e'}"
            ]
          },
          "metadata": {},
          "execution_count": 27
        }
      ]
    },
    {
      "cell_type": "code",
      "source": [
        "#tuple\n",
        "tuple(c for i, c in enumerate('abceabce'))\n"
      ],
      "metadata": {
        "colab": {
          "base_uri": "https://localhost:8080/"
        },
        "id": "9OCCt3-d9nfb",
        "outputId": "90c81c66-1313-410f-869e-d2052b5ea4ca"
      },
      "execution_count": 28,
      "outputs": [
        {
          "output_type": "execute_result",
          "data": {
            "text/plain": [
              "('a', 'b', 'c', 'e', 'a', 'b', 'c', 'e')"
            ]
          },
          "metadata": {},
          "execution_count": 28
        }
      ]
    },
    {
      "cell_type": "code",
      "source": [
        "#dict\n",
        "{i: c for i, c in enumerate('abceabce') if i < 5}\n"
      ],
      "metadata": {
        "colab": {
          "base_uri": "https://localhost:8080/"
        },
        "id": "OIHLBs-T9qEo",
        "outputId": "1117edec-b51e-48c8-816c-4afed3ea8a32"
      },
      "execution_count": 29,
      "outputs": [
        {
          "output_type": "execute_result",
          "data": {
            "text/plain": [
              "{0: 'a', 1: 'b', 2: 'c', 3: 'e', 4: 'a'}"
            ]
          },
          "metadata": {},
          "execution_count": 29
        }
      ]
    },
    {
      "cell_type": "code",
      "source": [
        "#kv pairs 7\n",
        "{i: c for i, c in enumerate('abcdefa')}\n"
      ],
      "metadata": {
        "colab": {
          "base_uri": "https://localhost:8080/"
        },
        "id": "slkrnBMp9rxm",
        "outputId": "7b4ea16c-c157-4497-ebaf-84c303bbed6d"
      },
      "execution_count": 30,
      "outputs": [
        {
          "output_type": "execute_result",
          "data": {
            "text/plain": [
              "{0: 'a', 1: 'b', 2: 'c', 3: 'd', 4: 'e', 5: 'f', 6: 'a'}"
            ]
          },
          "metadata": {},
          "execution_count": 30
        }
      ]
    },
    {
      "cell_type": "code",
      "source": [
        "##kv pairs 6\n",
        "{c: i for i, c in enumerate('abcdefa')}\n"
      ],
      "metadata": {
        "colab": {
          "base_uri": "https://localhost:8080/"
        },
        "id": "pgf9nLLZ9tzr",
        "outputId": "09a35c05-508c-49c3-dacd-f2c437a0ab0e"
      },
      "execution_count": 31,
      "outputs": [
        {
          "output_type": "execute_result",
          "data": {
            "text/plain": [
              "{'a': 6, 'b': 1, 'c': 2, 'd': 3, 'e': 4, 'f': 5}"
            ]
          },
          "metadata": {},
          "execution_count": 31
        }
      ]
    },
    {
      "cell_type": "code",
      "source": [
        "#unpacking\n",
        "arr = [('a', 1), ('b', 2), ('c', 2)]\n",
        "for idx, (char, i) in enumerate(arr):\n",
        "    print(idx, char, i)\n"
      ],
      "metadata": {
        "colab": {
          "base_uri": "https://localhost:8080/"
        },
        "id": "PntC0t4F90ez",
        "outputId": "f54e1693-0d3c-4009-ee97-876d974307a5"
      },
      "execution_count": 33,
      "outputs": [
        {
          "output_type": "stream",
          "name": "stdout",
          "text": [
            "0 a 1\n",
            "1 b 2\n",
            "2 c 2\n"
          ]
        }
      ]
    },
    {
      "cell_type": "code",
      "source": [
        "#unpacked\n",
        "[{key: value, 'i': idx} for idx, (key, value) in enumerate(arr)]\n"
      ],
      "metadata": {
        "colab": {
          "base_uri": "https://localhost:8080/"
        },
        "id": "UxYUZqEx93X9",
        "outputId": "bc6843ce-3ec9-4ecc-81b0-393ba30f5828"
      },
      "execution_count": 34,
      "outputs": [
        {
          "output_type": "execute_result",
          "data": {
            "text/plain": [
              "[{'a': 1, 'i': 0}, {'b': 2, 'i': 1}, {'c': 2, 'i': 2}]"
            ]
          },
          "metadata": {},
          "execution_count": 34
        }
      ]
    },
    {
      "cell_type": "code",
      "source": [
        "#zip\n",
        "d = {'a': 1, 'b': 2, 'c': 3}\n",
        "[(k, v) for k, v in d.items()]\n"
      ],
      "metadata": {
        "colab": {
          "base_uri": "https://localhost:8080/"
        },
        "id": "lX-T4Koy98yW",
        "outputId": "1e29c474-c3ad-45d6-f495-af00a8492688"
      },
      "execution_count": 35,
      "outputs": [
        {
          "output_type": "execute_result",
          "data": {
            "text/plain": [
              "[('a', 1), ('b', 2), ('c', 3)]"
            ]
          },
          "metadata": {},
          "execution_count": 35
        }
      ]
    },
    {
      "cell_type": "code",
      "source": [
        "#double dict\n",
        "d = {'a':1, 'b':2}\n",
        "{k: v * 2 for k, v in d.items()}\n"
      ],
      "metadata": {
        "colab": {
          "base_uri": "https://localhost:8080/"
        },
        "id": "ySAfz28f99tW",
        "outputId": "37398e09-70a6-4f2b-b04a-21abb2861f45"
      },
      "execution_count": 36,
      "outputs": [
        {
          "output_type": "execute_result",
          "data": {
            "text/plain": [
              "{'a': 2, 'b': 4}"
            ]
          },
          "metadata": {},
          "execution_count": 36
        }
      ]
    },
    {
      "cell_type": "code",
      "source": [
        "#together\n",
        "[(a, b) for a, b in zip([1, 2, 3], [4, 5, 6])]\n"
      ],
      "metadata": {
        "colab": {
          "base_uri": "https://localhost:8080/"
        },
        "id": "fU7gDhNP-BaA",
        "outputId": "444c3657-e8f0-45ff-af3b-3ba3d2d5906a"
      },
      "execution_count": 38,
      "outputs": [
        {
          "output_type": "execute_result",
          "data": {
            "text/plain": [
              "[(1, 4), (2, 5), (3, 6)]"
            ]
          },
          "metadata": {},
          "execution_count": 38
        }
      ]
    },
    {
      "cell_type": "code",
      "source": [
        "#arrays\n",
        "[(a, b, c) for a, b, c in zip([1, 2, 3], [4, 5, 6], [7, 8, 9])]\n"
      ],
      "metadata": {
        "colab": {
          "base_uri": "https://localhost:8080/"
        },
        "id": "0rK0u5HF-DLP",
        "outputId": "dbe0b145-0540-4785-dc84-15f19d147373"
      },
      "execution_count": 39,
      "outputs": [
        {
          "output_type": "execute_result",
          "data": {
            "text/plain": [
              "[(1, 4, 7), (2, 5, 8), (3, 6, 9)]"
            ]
          },
          "metadata": {},
          "execution_count": 39
        }
      ]
    },
    {
      "cell_type": "code",
      "source": [],
      "metadata": {
        "id": "-kvtLiyS-G52"
      },
      "execution_count": null,
      "outputs": []
    },
    {
      "cell_type": "code",
      "source": [],
      "metadata": {
        "id": "7DmMqCrY-HEd"
      },
      "execution_count": null,
      "outputs": []
    },
    {
      "cell_type": "code",
      "source": [],
      "metadata": {
        "id": "97C1Jo_--HST"
      },
      "execution_count": null,
      "outputs": []
    },
    {
      "cell_type": "code",
      "source": [
        "### LUNR\n",
        "\n",
        "import pandas as pd\n",
        "\n",
        "df = pd.read_csv(\"https://calmcode.io/static/data/clinc.csv\").assign(idx=lambda d: d.index)\n",
        "df.sample(3)\n"
      ],
      "metadata": {
        "colab": {
          "base_uri": "https://localhost:8080/",
          "height": 143
        },
        "id": "gYToYpNu-21v",
        "outputId": "cf9f633c-a3b2-4ed4-f62e-3e1db6822578"
      },
      "execution_count": 48,
      "outputs": [
        {
          "output_type": "execute_result",
          "data": {
            "text/plain": [
              "                                                    text                label  \\\n",
              "16735      i need help finding the apr on my aspire loan        interest_rate   \n",
              "7119   can you assure me i have a table at taco bell ...  confirm_reservation   \n",
              "7777             find the applicable timezone for austin             timezone   \n",
              "\n",
              "         idx  \n",
              "16735  16735  \n",
              "7119    7119  \n",
              "7777    7777  "
            ],
            "text/html": [
              "\n",
              "  <div id=\"df-89995a4f-740e-44e9-8d7d-c47dd5e79256\" class=\"colab-df-container\">\n",
              "    <div>\n",
              "<style scoped>\n",
              "    .dataframe tbody tr th:only-of-type {\n",
              "        vertical-align: middle;\n",
              "    }\n",
              "\n",
              "    .dataframe tbody tr th {\n",
              "        vertical-align: top;\n",
              "    }\n",
              "\n",
              "    .dataframe thead th {\n",
              "        text-align: right;\n",
              "    }\n",
              "</style>\n",
              "<table border=\"1\" class=\"dataframe\">\n",
              "  <thead>\n",
              "    <tr style=\"text-align: right;\">\n",
              "      <th></th>\n",
              "      <th>text</th>\n",
              "      <th>label</th>\n",
              "      <th>idx</th>\n",
              "    </tr>\n",
              "  </thead>\n",
              "  <tbody>\n",
              "    <tr>\n",
              "      <th>16735</th>\n",
              "      <td>i need help finding the apr on my aspire loan</td>\n",
              "      <td>interest_rate</td>\n",
              "      <td>16735</td>\n",
              "    </tr>\n",
              "    <tr>\n",
              "      <th>7119</th>\n",
              "      <td>can you assure me i have a table at taco bell ...</td>\n",
              "      <td>confirm_reservation</td>\n",
              "      <td>7119</td>\n",
              "    </tr>\n",
              "    <tr>\n",
              "      <th>7777</th>\n",
              "      <td>find the applicable timezone for austin</td>\n",
              "      <td>timezone</td>\n",
              "      <td>7777</td>\n",
              "    </tr>\n",
              "  </tbody>\n",
              "</table>\n",
              "</div>\n",
              "    <div class=\"colab-df-buttons\">\n",
              "\n",
              "  <div class=\"colab-df-container\">\n",
              "    <button class=\"colab-df-convert\" onclick=\"convertToInteractive('df-89995a4f-740e-44e9-8d7d-c47dd5e79256')\"\n",
              "            title=\"Convert this dataframe to an interactive table.\"\n",
              "            style=\"display:none;\">\n",
              "\n",
              "  <svg xmlns=\"http://www.w3.org/2000/svg\" height=\"24px\" viewBox=\"0 -960 960 960\">\n",
              "    <path d=\"M120-120v-720h720v720H120Zm60-500h600v-160H180v160Zm220 220h160v-160H400v160Zm0 220h160v-160H400v160ZM180-400h160v-160H180v160Zm440 0h160v-160H620v160ZM180-180h160v-160H180v160Zm440 0h160v-160H620v160Z\"/>\n",
              "  </svg>\n",
              "    </button>\n",
              "\n",
              "  <style>\n",
              "    .colab-df-container {\n",
              "      display:flex;\n",
              "      gap: 12px;\n",
              "    }\n",
              "\n",
              "    .colab-df-convert {\n",
              "      background-color: #E8F0FE;\n",
              "      border: none;\n",
              "      border-radius: 50%;\n",
              "      cursor: pointer;\n",
              "      display: none;\n",
              "      fill: #1967D2;\n",
              "      height: 32px;\n",
              "      padding: 0 0 0 0;\n",
              "      width: 32px;\n",
              "    }\n",
              "\n",
              "    .colab-df-convert:hover {\n",
              "      background-color: #E2EBFA;\n",
              "      box-shadow: 0px 1px 2px rgba(60, 64, 67, 0.3), 0px 1px 3px 1px rgba(60, 64, 67, 0.15);\n",
              "      fill: #174EA6;\n",
              "    }\n",
              "\n",
              "    .colab-df-buttons div {\n",
              "      margin-bottom: 4px;\n",
              "    }\n",
              "\n",
              "    [theme=dark] .colab-df-convert {\n",
              "      background-color: #3B4455;\n",
              "      fill: #D2E3FC;\n",
              "    }\n",
              "\n",
              "    [theme=dark] .colab-df-convert:hover {\n",
              "      background-color: #434B5C;\n",
              "      box-shadow: 0px 1px 3px 1px rgba(0, 0, 0, 0.15);\n",
              "      filter: drop-shadow(0px 1px 2px rgba(0, 0, 0, 0.3));\n",
              "      fill: #FFFFFF;\n",
              "    }\n",
              "  </style>\n",
              "\n",
              "    <script>\n",
              "      const buttonEl =\n",
              "        document.querySelector('#df-89995a4f-740e-44e9-8d7d-c47dd5e79256 button.colab-df-convert');\n",
              "      buttonEl.style.display =\n",
              "        google.colab.kernel.accessAllowed ? 'block' : 'none';\n",
              "\n",
              "      async function convertToInteractive(key) {\n",
              "        const element = document.querySelector('#df-89995a4f-740e-44e9-8d7d-c47dd5e79256');\n",
              "        const dataTable =\n",
              "          await google.colab.kernel.invokeFunction('convertToInteractive',\n",
              "                                                    [key], {});\n",
              "        if (!dataTable) return;\n",
              "\n",
              "        const docLinkHtml = 'Like what you see? Visit the ' +\n",
              "          '<a target=\"_blank\" href=https://colab.research.google.com/notebooks/data_table.ipynb>data table notebook</a>'\n",
              "          + ' to learn more about interactive tables.';\n",
              "        element.innerHTML = '';\n",
              "        dataTable['output_type'] = 'display_data';\n",
              "        await google.colab.output.renderOutput(dataTable, element);\n",
              "        const docLink = document.createElement('div');\n",
              "        docLink.innerHTML = docLinkHtml;\n",
              "        element.appendChild(docLink);\n",
              "      }\n",
              "    </script>\n",
              "  </div>\n",
              "\n",
              "\n",
              "<div id=\"df-91144124-ae23-41f1-9f97-e131119fecbd\">\n",
              "  <button class=\"colab-df-quickchart\" onclick=\"quickchart('df-91144124-ae23-41f1-9f97-e131119fecbd')\"\n",
              "            title=\"Suggest charts\"\n",
              "            style=\"display:none;\">\n",
              "\n",
              "<svg xmlns=\"http://www.w3.org/2000/svg\" height=\"24px\"viewBox=\"0 0 24 24\"\n",
              "     width=\"24px\">\n",
              "    <g>\n",
              "        <path d=\"M19 3H5c-1.1 0-2 .9-2 2v14c0 1.1.9 2 2 2h14c1.1 0 2-.9 2-2V5c0-1.1-.9-2-2-2zM9 17H7v-7h2v7zm4 0h-2V7h2v10zm4 0h-2v-4h2v4z\"/>\n",
              "    </g>\n",
              "</svg>\n",
              "  </button>\n",
              "\n",
              "<style>\n",
              "  .colab-df-quickchart {\n",
              "      --bg-color: #E8F0FE;\n",
              "      --fill-color: #1967D2;\n",
              "      --hover-bg-color: #E2EBFA;\n",
              "      --hover-fill-color: #174EA6;\n",
              "      --disabled-fill-color: #AAA;\n",
              "      --disabled-bg-color: #DDD;\n",
              "  }\n",
              "\n",
              "  [theme=dark] .colab-df-quickchart {\n",
              "      --bg-color: #3B4455;\n",
              "      --fill-color: #D2E3FC;\n",
              "      --hover-bg-color: #434B5C;\n",
              "      --hover-fill-color: #FFFFFF;\n",
              "      --disabled-bg-color: #3B4455;\n",
              "      --disabled-fill-color: #666;\n",
              "  }\n",
              "\n",
              "  .colab-df-quickchart {\n",
              "    background-color: var(--bg-color);\n",
              "    border: none;\n",
              "    border-radius: 50%;\n",
              "    cursor: pointer;\n",
              "    display: none;\n",
              "    fill: var(--fill-color);\n",
              "    height: 32px;\n",
              "    padding: 0;\n",
              "    width: 32px;\n",
              "  }\n",
              "\n",
              "  .colab-df-quickchart:hover {\n",
              "    background-color: var(--hover-bg-color);\n",
              "    box-shadow: 0 1px 2px rgba(60, 64, 67, 0.3), 0 1px 3px 1px rgba(60, 64, 67, 0.15);\n",
              "    fill: var(--button-hover-fill-color);\n",
              "  }\n",
              "\n",
              "  .colab-df-quickchart-complete:disabled,\n",
              "  .colab-df-quickchart-complete:disabled:hover {\n",
              "    background-color: var(--disabled-bg-color);\n",
              "    fill: var(--disabled-fill-color);\n",
              "    box-shadow: none;\n",
              "  }\n",
              "\n",
              "  .colab-df-spinner {\n",
              "    border: 2px solid var(--fill-color);\n",
              "    border-color: transparent;\n",
              "    border-bottom-color: var(--fill-color);\n",
              "    animation:\n",
              "      spin 1s steps(1) infinite;\n",
              "  }\n",
              "\n",
              "  @keyframes spin {\n",
              "    0% {\n",
              "      border-color: transparent;\n",
              "      border-bottom-color: var(--fill-color);\n",
              "      border-left-color: var(--fill-color);\n",
              "    }\n",
              "    20% {\n",
              "      border-color: transparent;\n",
              "      border-left-color: var(--fill-color);\n",
              "      border-top-color: var(--fill-color);\n",
              "    }\n",
              "    30% {\n",
              "      border-color: transparent;\n",
              "      border-left-color: var(--fill-color);\n",
              "      border-top-color: var(--fill-color);\n",
              "      border-right-color: var(--fill-color);\n",
              "    }\n",
              "    40% {\n",
              "      border-color: transparent;\n",
              "      border-right-color: var(--fill-color);\n",
              "      border-top-color: var(--fill-color);\n",
              "    }\n",
              "    60% {\n",
              "      border-color: transparent;\n",
              "      border-right-color: var(--fill-color);\n",
              "    }\n",
              "    80% {\n",
              "      border-color: transparent;\n",
              "      border-right-color: var(--fill-color);\n",
              "      border-bottom-color: var(--fill-color);\n",
              "    }\n",
              "    90% {\n",
              "      border-color: transparent;\n",
              "      border-bottom-color: var(--fill-color);\n",
              "    }\n",
              "  }\n",
              "</style>\n",
              "\n",
              "  <script>\n",
              "    async function quickchart(key) {\n",
              "      const quickchartButtonEl =\n",
              "        document.querySelector('#' + key + ' button');\n",
              "      quickchartButtonEl.disabled = true;  // To prevent multiple clicks.\n",
              "      quickchartButtonEl.classList.add('colab-df-spinner');\n",
              "      try {\n",
              "        const charts = await google.colab.kernel.invokeFunction(\n",
              "            'suggestCharts', [key], {});\n",
              "      } catch (error) {\n",
              "        console.error('Error during call to suggestCharts:', error);\n",
              "      }\n",
              "      quickchartButtonEl.classList.remove('colab-df-spinner');\n",
              "      quickchartButtonEl.classList.add('colab-df-quickchart-complete');\n",
              "    }\n",
              "    (() => {\n",
              "      let quickchartButtonEl =\n",
              "        document.querySelector('#df-91144124-ae23-41f1-9f97-e131119fecbd button');\n",
              "      quickchartButtonEl.style.display =\n",
              "        google.colab.kernel.accessAllowed ? 'block' : 'none';\n",
              "    })();\n",
              "  </script>\n",
              "</div>\n",
              "\n",
              "    </div>\n",
              "  </div>\n"
            ],
            "application/vnd.google.colaboratory.intrinsic+json": {
              "type": "dataframe",
              "summary": "{\n  \"name\": \"df\",\n  \"rows\": 3,\n  \"fields\": [\n    {\n      \"column\": \"text\",\n      \"properties\": {\n        \"dtype\": \"string\",\n        \"samples\": [\n          \"i need help finding the apr on my aspire loan\",\n          \"can you assure me i have a table at taco bell at 7pm\",\n          \"find the applicable timezone for austin\"\n        ],\n        \"num_unique_values\": 3,\n        \"semantic_type\": \"\",\n        \"description\": \"\"\n      }\n    },\n    {\n      \"column\": \"label\",\n      \"properties\": {\n        \"dtype\": \"string\",\n        \"samples\": [\n          \"interest_rate\",\n          \"confirm_reservation\",\n          \"timezone\"\n        ],\n        \"num_unique_values\": 3,\n        \"semantic_type\": \"\",\n        \"description\": \"\"\n      }\n    },\n    {\n      \"column\": \"idx\",\n      \"properties\": {\n        \"dtype\": \"number\",\n        \"std\": 5371,\n        \"min\": 7119,\n        \"max\": 16735,\n        \"samples\": [\n          16735,\n          7119,\n          7777\n        ],\n        \"num_unique_values\": 3,\n        \"semantic_type\": \"\",\n        \"description\": \"\"\n      }\n    }\n  ]\n}"
            }
          },
          "metadata": {},
          "execution_count": 48
        }
      ]
    },
    {
      "cell_type": "code",
      "source": [
        "##building index\n",
        "\n",
        "#convert df\n",
        "documents = df.to_dict(orient=\"records\")\n"
      ],
      "metadata": {
        "id": "oGbXRZRs_PAi"
      },
      "execution_count": 50,
      "outputs": []
    },
    {
      "cell_type": "code",
      "source": [
        "!pip install lunr"
      ],
      "metadata": {
        "colab": {
          "base_uri": "https://localhost:8080/"
        },
        "id": "LLiRAX9__ax0",
        "outputId": "9175d5df-7cfd-4239-9834-974549de15d7"
      },
      "execution_count": 55,
      "outputs": [
        {
          "output_type": "stream",
          "name": "stdout",
          "text": [
            "Collecting lunr\n",
            "  Downloading lunr-0.7.0.post1-py3-none-any.whl (35 kB)\n",
            "Installing collected packages: lunr\n",
            "Successfully installed lunr-0.7.0.post1\n"
          ]
        }
      ]
    },
    {
      "cell_type": "code",
      "source": [
        "#create index\n",
        "from lunr import lunr\n",
        "\n",
        "index = lunr(ref='idx', fields=('text',), documents=documents)\n",
        "\n"
      ],
      "metadata": {
        "id": "gdy45LxT_WGJ"
      },
      "execution_count": 56,
      "outputs": []
    },
    {
      "cell_type": "code",
      "source": [
        "index.search('spanish')\n",
        "\n"
      ],
      "metadata": {
        "colab": {
          "base_uri": "https://localhost:8080/"
        },
        "id": "81D7YCIR_8HP",
        "outputId": "83ae9991-1638-4af0-aa29-9753eefe3549"
      },
      "execution_count": 57,
      "outputs": [
        {
          "output_type": "execute_result",
          "data": {
            "text/plain": [
              "[{'ref': '4501', 'score': 7.801, 'match_data': <MatchData \"spanish\">},\n",
              " {'ref': '3', 'score': 7.62, 'match_data': <MatchData \"spanish\">},\n",
              " {'ref': '26', 'score': 7.62, 'match_data': <MatchData \"spanish\">},\n",
              " {'ref': '27', 'score': 7.62, 'match_data': <MatchData \"spanish\">},\n",
              " {'ref': '28', 'score': 7.62, 'match_data': <MatchData \"spanish\">},\n",
              " {'ref': '4526', 'score': 7.62, 'match_data': <MatchData \"spanish\">},\n",
              " {'ref': '4529', 'score': 7.62, 'match_data': <MatchData \"spanish\">},\n",
              " {'ref': '4556', 'score': 7.62, 'match_data': <MatchData \"spanish\">},\n",
              " {'ref': '4573', 'score': 7.62, 'match_data': <MatchData \"spanish\">},\n",
              " {'ref': '4575', 'score': 7.62, 'match_data': <MatchData \"spanish\">},\n",
              " {'ref': '4576', 'score': 7.62, 'match_data': <MatchData \"spanish\">},\n",
              " {'ref': '4585', 'score': 7.62, 'match_data': <MatchData \"spanish\">},\n",
              " {'ref': '5638', 'score': 7.62, 'match_data': <MatchData \"spanish\">},\n",
              " {'ref': '19505', 'score': 7.62, 'match_data': <MatchData \"spanish\">},\n",
              " {'ref': '19507', 'score': 7.62, 'match_data': <MatchData \"spanish\">},\n",
              " {'ref': '25', 'score': 6.767, 'match_data': <MatchData \"spanish\">},\n",
              " {'ref': '334', 'score': 6.767, 'match_data': <MatchData \"spanish\">},\n",
              " {'ref': '342', 'score': 6.767, 'match_data': <MatchData \"spanish\">},\n",
              " {'ref': '348', 'score': 6.767, 'match_data': <MatchData \"spanish\">},\n",
              " {'ref': '350', 'score': 6.767, 'match_data': <MatchData \"spanish\">},\n",
              " {'ref': '4546', 'score': 6.767, 'match_data': <MatchData \"spanish\">},\n",
              " {'ref': '4550', 'score': 6.767, 'match_data': <MatchData \"spanish\">},\n",
              " {'ref': '4559', 'score': 6.767, 'match_data': <MatchData \"spanish\">},\n",
              " {'ref': '4574', 'score': 6.767, 'match_data': <MatchData \"spanish\">},\n",
              " {'ref': '4577', 'score': 6.767, 'match_data': <MatchData \"spanish\">},\n",
              " {'ref': '4579', 'score': 6.767, 'match_data': <MatchData \"spanish\">},\n",
              " {'ref': '4595', 'score': 6.767, 'match_data': <MatchData \"spanish\">},\n",
              " {'ref': '4598', 'score': 6.767, 'match_data': <MatchData \"spanish\">},\n",
              " {'ref': '5619', 'score': 6.767, 'match_data': <MatchData \"spanish\">},\n",
              " {'ref': '5627', 'score': 6.767, 'match_data': <MatchData \"spanish\">},\n",
              " {'ref': '5639', 'score': 6.767, 'match_data': <MatchData \"spanish\">},\n",
              " {'ref': '5640', 'score': 6.767, 'match_data': <MatchData \"spanish\">},\n",
              " {'ref': '5644', 'score': 6.767, 'match_data': <MatchData \"spanish\">},\n",
              " {'ref': '5654', 'score': 6.767, 'match_data': <MatchData \"spanish\">},\n",
              " {'ref': '5672', 'score': 6.767, 'match_data': <MatchData \"spanish\">},\n",
              " {'ref': '19500', 'score': 6.767, 'match_data': <MatchData \"spanish\">},\n",
              " {'ref': '1', 'score': 6.085, 'match_data': <MatchData \"spanish\">},\n",
              " {'ref': '12', 'score': 6.085, 'match_data': <MatchData \"spanish\">},\n",
              " {'ref': '29', 'score': 6.085, 'match_data': <MatchData \"spanish\">},\n",
              " {'ref': '343', 'score': 6.085, 'match_data': <MatchData \"spanish\">},\n",
              " {'ref': '4510', 'score': 6.085, 'match_data': <MatchData \"spanish\">},\n",
              " {'ref': '4527', 'score': 6.085, 'match_data': <MatchData \"spanish\">},\n",
              " {'ref': '4543', 'score': 6.085, 'match_data': <MatchData \"spanish\">},\n",
              " {'ref': '4592', 'score': 6.085, 'match_data': <MatchData \"spanish\">},\n",
              " {'ref': '5604', 'score': 6.085, 'match_data': <MatchData \"spanish\">},\n",
              " {'ref': '5618', 'score': 6.085, 'match_data': <MatchData \"spanish\">},\n",
              " {'ref': '5621', 'score': 6.085, 'match_data': <MatchData \"spanish\">},\n",
              " {'ref': '5625', 'score': 6.085, 'match_data': <MatchData \"spanish\">},\n",
              " {'ref': '5647', 'score': 6.085, 'match_data': <MatchData \"spanish\">},\n",
              " {'ref': '5664', 'score': 6.085, 'match_data': <MatchData \"spanish\">},\n",
              " {'ref': '18182', 'score': 6.085, 'match_data': <MatchData \"spanish\">},\n",
              " {'ref': '19517', 'score': 6.085, 'match_data': <MatchData \"spanish\">},\n",
              " {'ref': '19727', 'score': 6.085, 'match_data': <MatchData \"spanish\">},\n",
              " {'ref': '5611', 'score': 5.528, 'match_data': <MatchData \"spanish\">},\n",
              " {'ref': '5692', 'score': 5.528, 'match_data': <MatchData \"spanish\">},\n",
              " {'ref': '5697', 'score': 5.528, 'match_data': <MatchData \"spanish\">},\n",
              " {'ref': '19726', 'score': 5.065, 'match_data': <MatchData \"spanish\">}]"
            ]
          },
          "metadata": {},
          "execution_count": 57
        }
      ]
    },
    {
      "cell_type": "code",
      "source": [
        "[documents[int(i['ref'])] for i in index.search('spanish')]"
      ],
      "metadata": {
        "colab": {
          "base_uri": "https://localhost:8080/"
        },
        "id": "U1oac-zn_-w3",
        "outputId": "ad4c23d6-07a1-4e6c-cf78-018bb17080a5"
      },
      "execution_count": 58,
      "outputs": [
        {
          "output_type": "execute_result",
          "data": {
            "text/plain": [
              "[{'text': \"can you tell me how to say 'i do not speak much spanish', in spanish\",\n",
              "  'label': 'translate',\n",
              "  'idx': 4501},\n",
              " {'text': 'how do you say fast in spanish', 'label': 'translate', 'idx': 3},\n",
              " {'text': 'what is dog in spanish', 'label': 'translate', 'idx': 26},\n",
              " {'text': 'how do you say dog in spanish', 'label': 'translate', 'idx': 27},\n",
              " {'text': 'dog in spanish', 'label': 'translate', 'idx': 28},\n",
              " {'text': 'how can i say not now in spanish',\n",
              "  'label': 'translate',\n",
              "  'idx': 4526},\n",
              " {'text': 'how do you say goodbye in spanish',\n",
              "  'label': 'translate',\n",
              "  'idx': 4529},\n",
              " {'text': 'what is spanish for hello', 'label': 'translate', 'idx': 4556},\n",
              " {'text': 'how do you say thank you in spanish',\n",
              "  'label': 'translate',\n",
              "  'idx': 4573},\n",
              " {'text': 'how can i say thank you in spanish',\n",
              "  'label': 'translate',\n",
              "  'idx': 4575},\n",
              " {'text': 'what is thank you in spanish', 'label': 'translate', 'idx': 4576},\n",
              " {'text': 'how do you say cat in spanish', 'label': 'translate', 'idx': 4585},\n",
              " {'text': 'can you talk in spanish', 'label': 'change_language', 'idx': 5638},\n",
              " {'text': 'how do i say dinner in spanish',\n",
              "  'label': 'translate',\n",
              "  'idx': 19505},\n",
              " {'text': 'how do i say thank you in spanish',\n",
              "  'label': 'translate',\n",
              "  'idx': 19507},\n",
              " {'text': 'english to spanish for dog', 'label': 'translate', 'idx': 25},\n",
              " {'text': 'speak spanish please', 'label': 'change_language', 'idx': 334},\n",
              " {'text': 'i want to use spanish with you',\n",
              "  'label': 'change_language',\n",
              "  'idx': 342},\n",
              " {'text': \"i'd like the language to be in spanish\",\n",
              "  'label': 'change_language',\n",
              "  'idx': 348},\n",
              " {'text': 'can i speak spanish to you hombre',\n",
              "  'label': 'change_language',\n",
              "  'idx': 350},\n",
              " {'text': 'what is the word for hello spanish',\n",
              "  'label': 'translate',\n",
              "  'idx': 4546},\n",
              " {'text': 'tell me how to say hello in spanish',\n",
              "  'label': 'translate',\n",
              "  'idx': 4550},\n",
              " {'text': 'what is spanish for good morning',\n",
              "  'label': 'translate',\n",
              "  'idx': 4559},\n",
              " {'text': 'how does one say thank you in spanish',\n",
              "  'label': 'translate',\n",
              "  'idx': 4574},\n",
              " {'text': 'what is the way to say thank you in spanish',\n",
              "  'label': 'translate',\n",
              "  'idx': 4577},\n",
              " {'text': 'how do they say \"where\\'s the bathroom\" in spanish',\n",
              "  'label': 'translate',\n",
              "  'idx': 4579},\n",
              " {'text': 'can you translate hi into spanish for me',\n",
              "  'label': 'translate',\n",
              "  'idx': 4595},\n",
              " {'text': 'can you translate milk into spanish for me',\n",
              "  'label': 'translate',\n",
              "  'idx': 4598},\n",
              " {'text': 'fix my language to spanish',\n",
              "  'label': 'change_language',\n",
              "  'idx': 5619},\n",
              " {'text': 'please respond to me in spanish',\n",
              "  'label': 'change_language',\n",
              "  'idx': 5627},\n",
              " {'text': 'can i start talking to you in spanish',\n",
              "  'label': 'change_language',\n",
              "  'idx': 5639},\n",
              " {'text': 'please talk to me in spanish',\n",
              "  'label': 'change_language',\n",
              "  'idx': 5640},\n",
              " {'text': 'talk to me in spanish from now on',\n",
              "  'label': 'change_language',\n",
              "  'idx': 5644},\n",
              " {'text': 'is it possible to only talk in spanish',\n",
              "  'label': 'change_language',\n",
              "  'idx': 5654},\n",
              " {'text': 'start talking in spanish', 'label': 'change_language', 'idx': 5672},\n",
              " {'text': 'in spanish, meet me tomorrow is said how',\n",
              "  'label': 'translate',\n",
              "  'idx': 19500},\n",
              " {'text': \"what's the spanish word for pasta\", 'label': 'translate', 'idx': 1},\n",
              " {'text': 'what is the right way to say excuse me in spanish',\n",
              "  'label': 'translate',\n",
              "  'idx': 12},\n",
              " {'text': \"what's the spanish word for dog\", 'label': 'translate', 'idx': 29},\n",
              " {'text': \"please let's speak in spanish\",\n",
              "  'label': 'change_language',\n",
              "  'idx': 343},\n",
              " {'text': \"how would i say, 'i don't know the answer' in spanish\",\n",
              "  'label': 'translate',\n",
              "  'idx': 4510},\n",
              " {'text': 'what do spanish people say for the word cow',\n",
              "  'label': 'translate',\n",
              "  'idx': 4527},\n",
              " {'text': 'what spanish word means hello', 'label': 'translate', 'idx': 4543},\n",
              " {'text': 'i wanna know a phrase in spanish',\n",
              "  'label': 'translate',\n",
              "  'idx': 4592},\n",
              " {'text': 'i would like to have language set to spanish, please',\n",
              "  'label': 'change_language',\n",
              "  'idx': 5604},\n",
              " {'text': 'i need to change language to spanish',\n",
              "  'label': 'change_language',\n",
              "  'idx': 5618},\n",
              " {'text': 'i need to change my speaking to spanish',\n",
              "  'label': 'change_language',\n",
              "  'idx': 5621},\n",
              " {'text': 'change your language to spanish please',\n",
              "  'label': 'change_language',\n",
              "  'idx': 5625},\n",
              " {'text': 'i want to use spanish as my language',\n",
              "  'label': 'change_language',\n",
              "  'idx': 5647},\n",
              " {'text': 'let’s chat using spanish', 'label': 'change_language', 'idx': 5664},\n",
              " {'text': 'add mia to my spanish playlist',\n",
              "  'label': 'update_playlist',\n",
              "  'idx': 18182},\n",
              " {'text': 'can you translate this name into spanish for me, please',\n",
              "  'label': 'translate',\n",
              "  'idx': 19517},\n",
              " {'text': 'change your language setting to spanish',\n",
              "  'label': 'change_language',\n",
              "  'idx': 19727},\n",
              " {'text': 'i want us to speak to each other in spanish from now on',\n",
              "  'label': 'change_language',\n",
              "  'idx': 5611},\n",
              " {'text': 'can you start talking to me in spanish from here on out',\n",
              "  'label': 'change_language',\n",
              "  'idx': 5692},\n",
              " {'text': 'please change your language setting to spanish',\n",
              "  'label': 'change_language',\n",
              "  'idx': 5697},\n",
              " {'text': 'please change your language setting to spanish now',\n",
              "  'label': 'change_language',\n",
              "  'idx': 19726}]"
            ]
          },
          "metadata": {},
          "execution_count": 58
        }
      ]
    },
    {
      "cell_type": "code",
      "source": [
        "#save/load\n",
        "\n",
        "import json\n",
        "from lunr.index import Index\n",
        "\n",
        "# Save\n",
        "with open('idx.json', 'w') as fd:\n",
        "    serialized = index.serialize()\n",
        "    json.dump(serialized, fd)\n",
        "\n",
        "# Load\n",
        "with open(\"idx.json\") as fd:\n",
        "    reloaded = json.loads(fd.read())\n",
        "\n",
        "idx = Index.load(reloaded)\n",
        "idx.search(\"plant\")\n"
      ],
      "metadata": {
        "colab": {
          "base_uri": "https://localhost:8080/"
        },
        "id": "ZuM9MjCPAEEl",
        "outputId": "568b63b7-3868-4622-dc3b-25657240b631"
      },
      "execution_count": 61,
      "outputs": [
        {
          "output_type": "execute_result",
          "data": {
            "text/plain": [
              "[{'ref': '11998', 'score': 9.056, 'match_data': <MatchData \"plant\">},\n",
              " {'ref': '9435', 'score': 8.144, 'match_data': <MatchData \"plant\">},\n",
              " {'ref': '2097', 'score': 7.399, 'match_data': <MatchData \"plant\">},\n",
              " {'ref': '9433', 'score': 7.399, 'match_data': <MatchData \"plant\">},\n",
              " {'ref': '23246', 'score': 7.399, 'match_data': <MatchData \"plant\">},\n",
              " {'ref': '9439', 'score': 6.778, 'match_data': <MatchData \"plant\">},\n",
              " {'ref': '19441', 'score': 6.254, 'match_data': <MatchData \"plant\">}]"
            ]
          },
          "metadata": {},
          "execution_count": 61
        }
      ]
    },
    {
      "cell_type": "code",
      "source": [
        "#benchmarks\n",
        "\n",
        "%timeit df.loc[lambda d: d['text'].str.contains(\"spanish\")]\n",
        "\n",
        "\n",
        "%timeit [d for d in documents if 'spanish' in d['text']]\n",
        "\n",
        "\n",
        "%timeit index.search('spanish')\n",
        "\n",
        "\n",
        "%timeit [documents[int(i['ref'])] for i in index.search('spanish')]\n",
        "\n"
      ],
      "metadata": {
        "colab": {
          "base_uri": "https://localhost:8080/"
        },
        "id": "8nQe3lX_AUz-",
        "outputId": "bb0d124c-e2f7-4b80-bbbd-d0d24a7be5e0"
      },
      "execution_count": 62,
      "outputs": [
        {
          "output_type": "stream",
          "name": "stdout",
          "text": [
            "13.9 ms ± 3.24 ms per loop (mean ± std. dev. of 7 runs, 100 loops each)\n",
            "3.01 ms ± 443 µs per loop (mean ± std. dev. of 7 runs, 100 loops each)\n",
            "643 µs ± 39.5 µs per loop (mean ± std. dev. of 7 runs, 1000 loops each)\n",
            "819 µs ± 227 µs per loop (mean ± std. dev. of 7 runs, 1000 loops each)\n"
          ]
        }
      ]
    },
    {
      "cell_type": "code",
      "source": [],
      "metadata": {
        "id": "iAsfdn9zAatu"
      },
      "execution_count": null,
      "outputs": []
    }
  ]
}