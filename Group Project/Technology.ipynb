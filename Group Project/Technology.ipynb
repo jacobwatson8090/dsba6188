{
  "nbformat": 4,
  "nbformat_minor": 0,
  "metadata": {
    "colab": {
      "provenance": []
    },
    "kernelspec": {
      "name": "python3",
      "display_name": "Python 3"
    },
    "language_info": {
      "name": "python"
    }
  },
  "cells": [
    {
      "cell_type": "code",
      "source": [
        "## CONVERT TO JSON"
      ],
      "metadata": {
        "id": "oR7Shoz8Fvss"
      },
      "execution_count": 57,
      "outputs": []
    },
    {
      "cell_type": "code",
      "execution_count": 58,
      "metadata": {
        "id": "fmLiO8BPljDP"
      },
      "outputs": [],
      "source": [
        "import zipfile\n",
        "import io\n",
        "import os\n",
        "import json\n",
        "from google.colab import files"
      ]
    },
    {
      "cell_type": "code",
      "source": [
        "uploaded = files.upload()"
      ],
      "metadata": {
        "colab": {
          "base_uri": "https://localhost:8080/",
          "height": 74
        },
        "id": "J3n_4gfvElnA",
        "outputId": "daacfa3a-822c-4b79-e501-41f7fd4de02b"
      },
      "execution_count": 59,
      "outputs": [
        {
          "output_type": "display_data",
          "data": {
            "text/plain": [
              "<IPython.core.display.HTML object>"
            ],
            "text/html": [
              "\n",
              "     <input type=\"file\" id=\"files-2c58b52e-3c21-4549-a744-9ab01d7523ac\" name=\"files[]\" multiple disabled\n",
              "        style=\"border:none\" />\n",
              "     <output id=\"result-2c58b52e-3c21-4549-a744-9ab01d7523ac\">\n",
              "      Upload widget is only available when the cell has been executed in the\n",
              "      current browser session. Please rerun this cell to enable.\n",
              "      </output>\n",
              "      <script>// Copyright 2017 Google LLC\n",
              "//\n",
              "// Licensed under the Apache License, Version 2.0 (the \"License\");\n",
              "// you may not use this file except in compliance with the License.\n",
              "// You may obtain a copy of the License at\n",
              "//\n",
              "//      http://www.apache.org/licenses/LICENSE-2.0\n",
              "//\n",
              "// Unless required by applicable law or agreed to in writing, software\n",
              "// distributed under the License is distributed on an \"AS IS\" BASIS,\n",
              "// WITHOUT WARRANTIES OR CONDITIONS OF ANY KIND, either express or implied.\n",
              "// See the License for the specific language governing permissions and\n",
              "// limitations under the License.\n",
              "\n",
              "/**\n",
              " * @fileoverview Helpers for google.colab Python module.\n",
              " */\n",
              "(function(scope) {\n",
              "function span(text, styleAttributes = {}) {\n",
              "  const element = document.createElement('span');\n",
              "  element.textContent = text;\n",
              "  for (const key of Object.keys(styleAttributes)) {\n",
              "    element.style[key] = styleAttributes[key];\n",
              "  }\n",
              "  return element;\n",
              "}\n",
              "\n",
              "// Max number of bytes which will be uploaded at a time.\n",
              "const MAX_PAYLOAD_SIZE = 100 * 1024;\n",
              "\n",
              "function _uploadFiles(inputId, outputId) {\n",
              "  const steps = uploadFilesStep(inputId, outputId);\n",
              "  const outputElement = document.getElementById(outputId);\n",
              "  // Cache steps on the outputElement to make it available for the next call\n",
              "  // to uploadFilesContinue from Python.\n",
              "  outputElement.steps = steps;\n",
              "\n",
              "  return _uploadFilesContinue(outputId);\n",
              "}\n",
              "\n",
              "// This is roughly an async generator (not supported in the browser yet),\n",
              "// where there are multiple asynchronous steps and the Python side is going\n",
              "// to poll for completion of each step.\n",
              "// This uses a Promise to block the python side on completion of each step,\n",
              "// then passes the result of the previous step as the input to the next step.\n",
              "function _uploadFilesContinue(outputId) {\n",
              "  const outputElement = document.getElementById(outputId);\n",
              "  const steps = outputElement.steps;\n",
              "\n",
              "  const next = steps.next(outputElement.lastPromiseValue);\n",
              "  return Promise.resolve(next.value.promise).then((value) => {\n",
              "    // Cache the last promise value to make it available to the next\n",
              "    // step of the generator.\n",
              "    outputElement.lastPromiseValue = value;\n",
              "    return next.value.response;\n",
              "  });\n",
              "}\n",
              "\n",
              "/**\n",
              " * Generator function which is called between each async step of the upload\n",
              " * process.\n",
              " * @param {string} inputId Element ID of the input file picker element.\n",
              " * @param {string} outputId Element ID of the output display.\n",
              " * @return {!Iterable<!Object>} Iterable of next steps.\n",
              " */\n",
              "function* uploadFilesStep(inputId, outputId) {\n",
              "  const inputElement = document.getElementById(inputId);\n",
              "  inputElement.disabled = false;\n",
              "\n",
              "  const outputElement = document.getElementById(outputId);\n",
              "  outputElement.innerHTML = '';\n",
              "\n",
              "  const pickedPromise = new Promise((resolve) => {\n",
              "    inputElement.addEventListener('change', (e) => {\n",
              "      resolve(e.target.files);\n",
              "    });\n",
              "  });\n",
              "\n",
              "  const cancel = document.createElement('button');\n",
              "  inputElement.parentElement.appendChild(cancel);\n",
              "  cancel.textContent = 'Cancel upload';\n",
              "  const cancelPromise = new Promise((resolve) => {\n",
              "    cancel.onclick = () => {\n",
              "      resolve(null);\n",
              "    };\n",
              "  });\n",
              "\n",
              "  // Wait for the user to pick the files.\n",
              "  const files = yield {\n",
              "    promise: Promise.race([pickedPromise, cancelPromise]),\n",
              "    response: {\n",
              "      action: 'starting',\n",
              "    }\n",
              "  };\n",
              "\n",
              "  cancel.remove();\n",
              "\n",
              "  // Disable the input element since further picks are not allowed.\n",
              "  inputElement.disabled = true;\n",
              "\n",
              "  if (!files) {\n",
              "    return {\n",
              "      response: {\n",
              "        action: 'complete',\n",
              "      }\n",
              "    };\n",
              "  }\n",
              "\n",
              "  for (const file of files) {\n",
              "    const li = document.createElement('li');\n",
              "    li.append(span(file.name, {fontWeight: 'bold'}));\n",
              "    li.append(span(\n",
              "        `(${file.type || 'n/a'}) - ${file.size} bytes, ` +\n",
              "        `last modified: ${\n",
              "            file.lastModifiedDate ? file.lastModifiedDate.toLocaleDateString() :\n",
              "                                    'n/a'} - `));\n",
              "    const percent = span('0% done');\n",
              "    li.appendChild(percent);\n",
              "\n",
              "    outputElement.appendChild(li);\n",
              "\n",
              "    const fileDataPromise = new Promise((resolve) => {\n",
              "      const reader = new FileReader();\n",
              "      reader.onload = (e) => {\n",
              "        resolve(e.target.result);\n",
              "      };\n",
              "      reader.readAsArrayBuffer(file);\n",
              "    });\n",
              "    // Wait for the data to be ready.\n",
              "    let fileData = yield {\n",
              "      promise: fileDataPromise,\n",
              "      response: {\n",
              "        action: 'continue',\n",
              "      }\n",
              "    };\n",
              "\n",
              "    // Use a chunked sending to avoid message size limits. See b/62115660.\n",
              "    let position = 0;\n",
              "    do {\n",
              "      const length = Math.min(fileData.byteLength - position, MAX_PAYLOAD_SIZE);\n",
              "      const chunk = new Uint8Array(fileData, position, length);\n",
              "      position += length;\n",
              "\n",
              "      const base64 = btoa(String.fromCharCode.apply(null, chunk));\n",
              "      yield {\n",
              "        response: {\n",
              "          action: 'append',\n",
              "          file: file.name,\n",
              "          data: base64,\n",
              "        },\n",
              "      };\n",
              "\n",
              "      let percentDone = fileData.byteLength === 0 ?\n",
              "          100 :\n",
              "          Math.round((position / fileData.byteLength) * 100);\n",
              "      percent.textContent = `${percentDone}% done`;\n",
              "\n",
              "    } while (position < fileData.byteLength);\n",
              "  }\n",
              "\n",
              "  // All done.\n",
              "  yield {\n",
              "    response: {\n",
              "      action: 'complete',\n",
              "    }\n",
              "  };\n",
              "}\n",
              "\n",
              "scope.google = scope.google || {};\n",
              "scope.google.colab = scope.google.colab || {};\n",
              "scope.google.colab._files = {\n",
              "  _uploadFiles,\n",
              "  _uploadFilesContinue,\n",
              "};\n",
              "})(self);\n",
              "</script> "
            ]
          },
          "metadata": {}
        },
        {
          "output_type": "stream",
          "name": "stdout",
          "text": [
            "Saving Technology.zip to Technology (1).zip\n"
          ]
        }
      ]
    },
    {
      "cell_type": "code",
      "source": [
        "zip_file_name = list(uploaded.keys())[0]\n"
      ],
      "metadata": {
        "id": "6L5vXYgjE4gR"
      },
      "execution_count": 60,
      "outputs": []
    },
    {
      "cell_type": "code",
      "source": [
        "with zipfile.ZipFile(io.BytesIO(uploaded[zip_file_name]), 'r') as zip_ref:\n",
        "    zip_ref.extractall('data')"
      ],
      "metadata": {
        "id": "UsJ0GCHYE5XZ"
      },
      "execution_count": 61,
      "outputs": []
    },
    {
      "cell_type": "code",
      "source": [
        "text_files = [f for f in os.listdir('data') if f.endswith('.txt')]"
      ],
      "metadata": {
        "id": "DzFypuegE88x"
      },
      "execution_count": 62,
      "outputs": []
    },
    {
      "cell_type": "code",
      "source": [
        "consolidated_data = {}\n",
        "\n",
        "for file_name in text_files:\n",
        "    with open(os.path.join('data', file_name), 'r') as file:\n",
        "        content = file.read()\n",
        "        consolidated_data[file_name] = content"
      ],
      "metadata": {
        "id": "8Z7Qg0SUFCpc"
      },
      "execution_count": 63,
      "outputs": []
    },
    {
      "cell_type": "code",
      "source": [
        "json_file_name = 'consolidated_data.json'\n",
        "with open(json_file_name, 'w') as json_file:\n",
        "    json.dump(consolidated_data, json_file)"
      ],
      "metadata": {
        "id": "E1mm3IE6FFNg"
      },
      "execution_count": 64,
      "outputs": []
    },
    {
      "cell_type": "code",
      "source": [
        "files.download(json_file_name)"
      ],
      "metadata": {
        "id": "0_CkcH9rFLpN",
        "outputId": "9d9dfb79-5cd6-457c-b11f-6961599e7f6d",
        "colab": {
          "base_uri": "https://localhost:8080/",
          "height": 17
        }
      },
      "execution_count": 65,
      "outputs": [
        {
          "output_type": "display_data",
          "data": {
            "text/plain": [
              "<IPython.core.display.Javascript object>"
            ],
            "application/javascript": [
              "\n",
              "    async function download(id, filename, size) {\n",
              "      if (!google.colab.kernel.accessAllowed) {\n",
              "        return;\n",
              "      }\n",
              "      const div = document.createElement('div');\n",
              "      const label = document.createElement('label');\n",
              "      label.textContent = `Downloading \"${filename}\": `;\n",
              "      div.appendChild(label);\n",
              "      const progress = document.createElement('progress');\n",
              "      progress.max = size;\n",
              "      div.appendChild(progress);\n",
              "      document.body.appendChild(div);\n",
              "\n",
              "      const buffers = [];\n",
              "      let downloaded = 0;\n",
              "\n",
              "      const channel = await google.colab.kernel.comms.open(id);\n",
              "      // Send a message to notify the kernel that we're ready.\n",
              "      channel.send({})\n",
              "\n",
              "      for await (const message of channel.messages) {\n",
              "        // Send a message to notify the kernel that we're ready.\n",
              "        channel.send({})\n",
              "        if (message.buffers) {\n",
              "          for (const buffer of message.buffers) {\n",
              "            buffers.push(buffer);\n",
              "            downloaded += buffer.byteLength;\n",
              "            progress.value = downloaded;\n",
              "          }\n",
              "        }\n",
              "      }\n",
              "      const blob = new Blob(buffers, {type: 'application/binary'});\n",
              "      const a = document.createElement('a');\n",
              "      a.href = window.URL.createObjectURL(blob);\n",
              "      a.download = filename;\n",
              "      div.appendChild(a);\n",
              "      a.click();\n",
              "      div.remove();\n",
              "    }\n",
              "  "
            ]
          },
          "metadata": {}
        },
        {
          "output_type": "display_data",
          "data": {
            "text/plain": [
              "<IPython.core.display.Javascript object>"
            ],
            "application/javascript": [
              "download(\"download_96693dec-7399-4fdf-9204-f344539ddf52\", \"consolidated_data.json\", 561970)"
            ]
          },
          "metadata": {}
        }
      ]
    },
    {
      "cell_type": "code",
      "source": [
        "### COUNTING CHARACTERS"
      ],
      "metadata": {
        "id": "VQ0mGm6YGfnQ"
      },
      "execution_count": null,
      "outputs": []
    },
    {
      "cell_type": "code",
      "source": [
        "characters_count = {}"
      ],
      "metadata": {
        "id": "pM75lmEuHVFg"
      },
      "execution_count": 68,
      "outputs": []
    },
    {
      "cell_type": "code",
      "source": [
        "for file_name in text_files:\n",
        "    with open(os.path.join('data', file_name), 'r') as file:\n",
        "        content = file.read()\n",
        "        characters_count[file_name] = len(content)"
      ],
      "metadata": {
        "id": "Px4qAKaZHW7D"
      },
      "execution_count": 69,
      "outputs": []
    },
    {
      "cell_type": "code",
      "source": [
        "for file_name, count in characters_count.items():\n",
        "    print(f\"{file_name}: {count} characters\")"
      ],
      "metadata": {
        "colab": {
          "base_uri": "https://localhost:8080/"
        },
        "id": "iVwChfDCHYjO",
        "outputId": "bb008eee-7cd1-44af-c109-e532ad897e44"
      },
      "execution_count": 70,
      "outputs": [
        {
          "output_type": "stream",
          "name": "stdout",
          "text": [
            "Activision Blizzard_Kotick_2020.txt: 21063 characters\n",
            "Comcast_Roberts_2022.txt: 3653 characters\n",
            "J.B. Hunt Transport Services_Roberts_2021.txt: 12587 characters\n",
            "Texas Instruments_Templeton_2021.txt: 6891 characters\n",
            "Nvidia_Huang_2021.txt: 20377 characters\n",
            "Paccar_Feight_2022.txt: 14149 characters\n",
            "Avantor_Stubblefield_2021.txt: 4577 characters\n",
            "Ebay_Lannone_2020.txt: 14790 characters\n",
            "Leidos Holdings_Krone_2021.txt: 5331 characters\n",
            "Las Vegas Sands_Goldstein_2022.txt: 5309 characters\n",
            "Netflix_None_2021.txt: 15803 characters\n",
            "Howmet Aerospace_Plant_2020.txt: 4198 characters\n",
            "Hewlett Packard Enterprise_Neri_2021.txt: 6327 characters\n",
            "Fox_Murdoch_2020.txt: 4422 characters\n",
            "Xerox Holdings_Visentin_2021.txt: 6679 characters\n",
            "HP_Lores_2021.txt: 6965 characters\n",
            "Lam Research_Archer_2021.txt: 6303 characters\n",
            "Apple_Cook_2019.txt: 8446 characters\n",
            "3M_Roman_2020.txt: 11819 characters\n",
            "Motorola Solutions_Brown_2022.txt: 3395 characters\n",
            "Intuit_Goodarzi_2021.txt: 4092 characters\n",
            "Fiserv_Bisignano_2021.txt: 15384 characters\n",
            "News Corp_Thomson_2021.txt: 10196 characters\n",
            "Raytheon_Hayes_2021.txt: 11865 characters\n",
            "Thermo Fisher Scientific_Casper_2021.txt: 13639 characters\n",
            "General Dynamics_Novakovic_2021.txt: 6502 characters\n",
            "Alphabet_Pichai_2020.txt: 1999 characters\n",
            "Verizon Communication_Vestberg_2021.txt: 14437 characters\n",
            "IBM_Krishna_2021.txt: 10247 characters\n",
            "Cognizant_Humphries_2021.txt: 13263 characters\n",
            "Salesforce_Benioff_2021.txt: 7803 characters\n",
            "Rockwell Automation_Moret_2021.txt: 3146 characters\n",
            "Westinghouse Air Brake Technologies_Santana_2021.txt: 6671 characters\n",
            "UPS_Tome_2021.txt: 9486 characters\n",
            "Aramark_Zillmer_2021.txt: 10072 characters\n",
            "Cisco_Robbins_2021.txt: 9999 characters\n",
            "Microsoft_Nadella_2021.txt: 24934 characters\n",
            "Old Republic International_Smiddy_2021.txt: 16505 characters\n",
            "CDW_Leahy_2021.txt: 2513 characters\n",
            "FedEx_Smith_2021.txt: 10143 characters\n",
            "Intel_Gelsinger_2021.txt: 7546 characters\n",
            "Lumen Technologies_Storey_2020.txt: 9029 characters\n",
            "Amazon_Bezos_2020.txt: 23950 characters\n",
            "XPO Logistics_Jacobs_2021.txt: 9637 characters\n",
            "Adobe_Narayen_2022.txt: 16455 characters\n",
            "Becton Dickinson_Polen_2021.txt: 10732 characters\n",
            "Charter Communications_Rutledge_2021.txt: 6761 characters\n",
            "Raytheon Technologies_Hayes_2021.txt: 2967 characters\n",
            "Frontier Communications_McCarthy_2018.txt: 5352 characters\n",
            "DXC Technology_Salvino_2021.txt: 3026 characters\n",
            "Cerner_Feinberg_2021.txt: 14346 characters\n",
            "L3Harris Technologies_Kubasik_2021.txt: 10968 characters\n",
            "Advanced Micro Devices_Su_2022.txt: 8380 characters\n",
            "Liberty Media_Maffei_2020.txt: 9750 characters\n",
            "ATT_Stankey_2021.txt: 19699 characters\n",
            "Dell Technologies_Dell_2021.txt: 5881 characters\n"
          ]
        }
      ]
    },
    {
      "cell_type": "code",
      "source": [
        "### ORDERING LIST FROM LARGEST TO SMALLEST\n",
        "\n",
        "char_count_list = [(file_name, len(content)) for file_name, content in consolidated_data.items()]\n"
      ],
      "metadata": {
        "id": "TgvhyWgVHr02"
      },
      "execution_count": 71,
      "outputs": []
    },
    {
      "cell_type": "code",
      "source": [
        "char_count_list_sorted = sorted(char_count_list, key=lambda x: x[1], reverse=True)"
      ],
      "metadata": {
        "id": "GBR6DqI4Hwu-"
      },
      "execution_count": 72,
      "outputs": []
    },
    {
      "cell_type": "code",
      "source": [
        "for file_name, count in char_count_list_sorted:\n",
        "    print(f\"{file_name}: {count} characters\")"
      ],
      "metadata": {
        "colab": {
          "base_uri": "https://localhost:8080/"
        },
        "id": "w-0ai7vxHzB3",
        "outputId": "7d52cd70-c93d-49c5-934b-29b898abfe17"
      },
      "execution_count": 73,
      "outputs": [
        {
          "output_type": "stream",
          "name": "stdout",
          "text": [
            "Microsoft_Nadella_2021.txt: 24934 characters\n",
            "Amazon_Bezos_2020.txt: 23950 characters\n",
            "Activision Blizzard_Kotick_2020.txt: 21063 characters\n",
            "Nvidia_Huang_2021.txt: 20377 characters\n",
            "ATT_Stankey_2021.txt: 19699 characters\n",
            "Old Republic International_Smiddy_2021.txt: 16505 characters\n",
            "Adobe_Narayen_2022.txt: 16455 characters\n",
            "Netflix_None_2021.txt: 15803 characters\n",
            "Fiserv_Bisignano_2021.txt: 15384 characters\n",
            "Ebay_Lannone_2020.txt: 14790 characters\n",
            "Verizon Communication_Vestberg_2021.txt: 14437 characters\n",
            "Cerner_Feinberg_2021.txt: 14346 characters\n",
            "Paccar_Feight_2022.txt: 14149 characters\n",
            "Thermo Fisher Scientific_Casper_2021.txt: 13639 characters\n",
            "Cognizant_Humphries_2021.txt: 13263 characters\n",
            "J.B. Hunt Transport Services_Roberts_2021.txt: 12587 characters\n",
            "Raytheon_Hayes_2021.txt: 11865 characters\n",
            "3M_Roman_2020.txt: 11819 characters\n",
            "L3Harris Technologies_Kubasik_2021.txt: 10968 characters\n",
            "Becton Dickinson_Polen_2021.txt: 10732 characters\n",
            "IBM_Krishna_2021.txt: 10247 characters\n",
            "News Corp_Thomson_2021.txt: 10196 characters\n",
            "FedEx_Smith_2021.txt: 10143 characters\n",
            "Aramark_Zillmer_2021.txt: 10072 characters\n",
            "Cisco_Robbins_2021.txt: 9999 characters\n",
            "Liberty Media_Maffei_2020.txt: 9750 characters\n",
            "XPO Logistics_Jacobs_2021.txt: 9637 characters\n",
            "UPS_Tome_2021.txt: 9486 characters\n",
            "Lumen Technologies_Storey_2020.txt: 9029 characters\n",
            "Apple_Cook_2019.txt: 8446 characters\n",
            "Advanced Micro Devices_Su_2022.txt: 8380 characters\n",
            "Salesforce_Benioff_2021.txt: 7803 characters\n",
            "Intel_Gelsinger_2021.txt: 7546 characters\n",
            "HP_Lores_2021.txt: 6965 characters\n",
            "Texas Instruments_Templeton_2021.txt: 6891 characters\n",
            "Charter Communications_Rutledge_2021.txt: 6761 characters\n",
            "Xerox Holdings_Visentin_2021.txt: 6679 characters\n",
            "Westinghouse Air Brake Technologies_Santana_2021.txt: 6671 characters\n",
            "General Dynamics_Novakovic_2021.txt: 6502 characters\n",
            "Hewlett Packard Enterprise_Neri_2021.txt: 6327 characters\n",
            "Lam Research_Archer_2021.txt: 6303 characters\n",
            "Dell Technologies_Dell_2021.txt: 5881 characters\n",
            "Frontier Communications_McCarthy_2018.txt: 5352 characters\n",
            "Leidos Holdings_Krone_2021.txt: 5331 characters\n",
            "Las Vegas Sands_Goldstein_2022.txt: 5309 characters\n",
            "Avantor_Stubblefield_2021.txt: 4577 characters\n",
            "Fox_Murdoch_2020.txt: 4422 characters\n",
            "Howmet Aerospace_Plant_2020.txt: 4198 characters\n",
            "Intuit_Goodarzi_2021.txt: 4092 characters\n",
            "Comcast_Roberts_2022.txt: 3653 characters\n",
            "Motorola Solutions_Brown_2022.txt: 3395 characters\n",
            "Rockwell Automation_Moret_2021.txt: 3146 characters\n",
            "DXC Technology_Salvino_2021.txt: 3026 characters\n",
            "Raytheon Technologies_Hayes_2021.txt: 2967 characters\n",
            "CDW_Leahy_2021.txt: 2513 characters\n",
            "Alphabet_Pichai_2020.txt: 1999 characters\n"
          ]
        }
      ]
    },
    {
      "cell_type": "code",
      "source": [
        "### PLOTTING DOCUMENTS BY YEAR"
      ],
      "metadata": {
        "id": "ZHuX8FaZIBAo"
      },
      "execution_count": null,
      "outputs": []
    },
    {
      "cell_type": "code",
      "source": [
        "# Extracting year from each document name\n",
        "document_years = {}\n",
        "\n",
        "for file_name in consolidated_data.keys():\n",
        "    if file_name.endswith(\".txt\"):\n",
        "        year = file_name[-8:-4]\n",
        "        document_years[file_name] = year\n",
        "    else:\n",
        "        print(f\"No year found for: {file_name}\")\n",
        "\n",
        "for file_name, year in document_years.items():\n",
        "    print(f\"{file_name}: {year}\")"
      ],
      "metadata": {
        "colab": {
          "base_uri": "https://localhost:8080/"
        },
        "id": "INT1UFx3LRnQ",
        "outputId": "23f05991-9f62-45b4-f6c7-94a8a0db33d2"
      },
      "execution_count": 74,
      "outputs": [
        {
          "output_type": "stream",
          "name": "stdout",
          "text": [
            "Activision Blizzard_Kotick_2020.txt: 2020\n",
            "Comcast_Roberts_2022.txt: 2022\n",
            "J.B. Hunt Transport Services_Roberts_2021.txt: 2021\n",
            "Texas Instruments_Templeton_2021.txt: 2021\n",
            "Nvidia_Huang_2021.txt: 2021\n",
            "Paccar_Feight_2022.txt: 2022\n",
            "Avantor_Stubblefield_2021.txt: 2021\n",
            "Ebay_Lannone_2020.txt: 2020\n",
            "Leidos Holdings_Krone_2021.txt: 2021\n",
            "Las Vegas Sands_Goldstein_2022.txt: 2022\n",
            "Netflix_None_2021.txt: 2021\n",
            "Howmet Aerospace_Plant_2020.txt: 2020\n",
            "Hewlett Packard Enterprise_Neri_2021.txt: 2021\n",
            "Fox_Murdoch_2020.txt: 2020\n",
            "Xerox Holdings_Visentin_2021.txt: 2021\n",
            "HP_Lores_2021.txt: 2021\n",
            "Lam Research_Archer_2021.txt: 2021\n",
            "Apple_Cook_2019.txt: 2019\n",
            "3M_Roman_2020.txt: 2020\n",
            "Motorola Solutions_Brown_2022.txt: 2022\n",
            "Intuit_Goodarzi_2021.txt: 2021\n",
            "Fiserv_Bisignano_2021.txt: 2021\n",
            "News Corp_Thomson_2021.txt: 2021\n",
            "Raytheon_Hayes_2021.txt: 2021\n",
            "Thermo Fisher Scientific_Casper_2021.txt: 2021\n",
            "General Dynamics_Novakovic_2021.txt: 2021\n",
            "Alphabet_Pichai_2020.txt: 2020\n",
            "Verizon Communication_Vestberg_2021.txt: 2021\n",
            "IBM_Krishna_2021.txt: 2021\n",
            "Cognizant_Humphries_2021.txt: 2021\n",
            "Salesforce_Benioff_2021.txt: 2021\n",
            "Rockwell Automation_Moret_2021.txt: 2021\n",
            "Westinghouse Air Brake Technologies_Santana_2021.txt: 2021\n",
            "UPS_Tome_2021.txt: 2021\n",
            "Aramark_Zillmer_2021.txt: 2021\n",
            "Cisco_Robbins_2021.txt: 2021\n",
            "Microsoft_Nadella_2021.txt: 2021\n",
            "Old Republic International_Smiddy_2021.txt: 2021\n",
            "CDW_Leahy_2021.txt: 2021\n",
            "FedEx_Smith_2021.txt: 2021\n",
            "Intel_Gelsinger_2021.txt: 2021\n",
            "Lumen Technologies_Storey_2020.txt: 2020\n",
            "Amazon_Bezos_2020.txt: 2020\n",
            "XPO Logistics_Jacobs_2021.txt: 2021\n",
            "Adobe_Narayen_2022.txt: 2022\n",
            "Becton Dickinson_Polen_2021.txt: 2021\n",
            "Charter Communications_Rutledge_2021.txt: 2021\n",
            "Raytheon Technologies_Hayes_2021.txt: 2021\n",
            "Frontier Communications_McCarthy_2018.txt: 2018\n",
            "DXC Technology_Salvino_2021.txt: 2021\n",
            "Cerner_Feinberg_2021.txt: 2021\n",
            "L3Harris Technologies_Kubasik_2021.txt: 2021\n",
            "Advanced Micro Devices_Su_2022.txt: 2022\n",
            "Liberty Media_Maffei_2020.txt: 2020\n",
            "ATT_Stankey_2021.txt: 2021\n",
            "Dell Technologies_Dell_2021.txt: 2021\n"
          ]
        }
      ]
    },
    {
      "cell_type": "code",
      "source": [
        "import matplotlib.pyplot as plt\n",
        "\n",
        "year_counts = {}\n",
        "for year in document_years.values():\n",
        "    year_counts[year] = year_counts.get(year, 0) + 1\n",
        "\n",
        "years = list(year_counts.keys())\n",
        "counts = list(year_counts.values())\n",
        "\n",
        "plt.figure(figsize=(10, 6))\n",
        "plt.bar(years, counts, color='skyblue')\n",
        "plt.xlabel('Year')\n",
        "plt.ylabel('Number of Documents')\n",
        "plt.title('Number of Documents from Each Year')\n",
        "plt.show()"
      ],
      "metadata": {
        "colab": {
          "base_uri": "https://localhost:8080/",
          "height": 564
        },
        "id": "oYWz7lADNRKu",
        "outputId": "e10ec2ab-cc22-48ec-b5a8-d5834a2e4d43"
      },
      "execution_count": 75,
      "outputs": [
        {
          "output_type": "display_data",
          "data": {
            "text/plain": [
              "<Figure size 1000x600 with 1 Axes>"
            ],
            "image/png": "[encoded data removed]"
          },
          "metadata": {}
        }
      ]
    },
    {
      "cell_type": "code",
      "source": [
        "### BASIC SENTIMENT ANALYSIS"
      ],
      "metadata": {
        "id": "dl6pMgoBNX9Q"
      },
      "execution_count": null,
      "outputs": []
    },
    {
      "cell_type": "code",
      "source": [
        "import nltk\n",
        "from nltk.sentiment import SentimentIntensityAnalyzer\n",
        "\n",
        "nltk.download('vader_lexicon')\n",
        "\n",
        "sid = SentimentIntensityAnalyzer()\n",
        "\n",
        "document_sentiments = {}\n",
        "\n",
        "for file_name, content in consolidated_data.items():\n",
        "    sentiment_score = sid.polarity_scores(content)\n",
        "    sentiment_score = {key: sentiment_score[key] for key in ['neg', 'neu', 'pos']}\n",
        "    document_sentiments[file_name] = sentiment_score\n",
        "\n",
        "for file_name, sentiment_score in document_sentiments.items():\n",
        "    print(f\"{file_name}: {sentiment_score}\")\n"
      ],
      "metadata": {
        "colab": {
          "base_uri": "https://localhost:8080/"
        },
        "id": "0zQWiYNbOQJ4",
        "outputId": "06cf83f5-876a-4b96-8497-968d20f5b6fb"
      },
      "execution_count": 76,
      "outputs": [
        {
          "output_type": "stream",
          "name": "stderr",
          "text": [
            "[nltk_data] Downloading package vader_lexicon to /root/nltk_data...\n",
            "[nltk_data]   Package vader_lexicon is already up-to-date!\n"
          ]
        },
        {
          "output_type": "stream",
          "name": "stdout",
          "text": [
            "Activision Blizzard_Kotick_2020.txt: {'neg': 0.019, 'neu': 0.75, 'pos': 0.231}\n",
            "Comcast_Roberts_2022.txt: {'neg': 0.009, 'neu': 0.809, 'pos': 0.182}\n",
            "J.B. Hunt Transport Services_Roberts_2021.txt: {'neg': 0.023, 'neu': 0.768, 'pos': 0.209}\n",
            "Texas Instruments_Templeton_2021.txt: {'neg': 0.015, 'neu': 0.706, 'pos': 0.278}\n",
            "Nvidia_Huang_2021.txt: {'neg': 0.023, 'neu': 0.857, 'pos': 0.12}\n",
            "Paccar_Feight_2022.txt: {'neg': 0.006, 'neu': 0.847, 'pos': 0.147}\n",
            "Avantor_Stubblefield_2021.txt: {'neg': 0.009, 'neu': 0.789, 'pos': 0.202}\n",
            "Ebay_Lannone_2020.txt: {'neg': 0.01, 'neu': 0.76, 'pos': 0.231}\n",
            "Leidos Holdings_Krone_2021.txt: {'neg': 0.02, 'neu': 0.8, 'pos': 0.181}\n",
            "Las Vegas Sands_Goldstein_2022.txt: {'neg': 0.014, 'neu': 0.817, 'pos': 0.169}\n",
            "Netflix_None_2021.txt: {'neg': 0.035, 'neu': 0.821, 'pos': 0.144}\n",
            "Howmet Aerospace_Plant_2020.txt: {'neg': 0.02, 'neu': 0.791, 'pos': 0.19}\n",
            "Hewlett Packard Enterprise_Neri_2021.txt: {'neg': 0.026, 'neu': 0.812, 'pos': 0.162}\n",
            "Fox_Murdoch_2020.txt: {'neg': 0.012, 'neu': 0.817, 'pos': 0.171}\n",
            "Xerox Holdings_Visentin_2021.txt: {'neg': 0.026, 'neu': 0.844, 'pos': 0.13}\n",
            "HP_Lores_2021.txt: {'neg': 0.007, 'neu': 0.811, 'pos': 0.182}\n",
            "Lam Research_Archer_2021.txt: {'neg': 0.026, 'neu': 0.8, 'pos': 0.175}\n",
            "Apple_Cook_2019.txt: {'neg': 0.026, 'neu': 0.862, 'pos': 0.112}\n",
            "3M_Roman_2020.txt: {'neg': 0.037, 'neu': 0.771, 'pos': 0.192}\n",
            "Motorola Solutions_Brown_2022.txt: {'neg': 0.021, 'neu': 0.728, 'pos': 0.252}\n",
            "Intuit_Goodarzi_2021.txt: {'neg': 0.009, 'neu': 0.796, 'pos': 0.195}\n",
            "Fiserv_Bisignano_2021.txt: {'neg': 0.015, 'neu': 0.813, 'pos': 0.172}\n",
            "News Corp_Thomson_2021.txt: {'neg': 0.009, 'neu': 0.813, 'pos': 0.178}\n",
            "Raytheon_Hayes_2021.txt: {'neg': 0.033, 'neu': 0.785, 'pos': 0.182}\n",
            "Thermo Fisher Scientific_Casper_2021.txt: {'neg': 0.009, 'neu': 0.836, 'pos': 0.155}\n",
            "General Dynamics_Novakovic_2021.txt: {'neg': 0.049, 'neu': 0.784, 'pos': 0.166}\n",
            "Alphabet_Pichai_2020.txt: {'neg': 0.009, 'neu': 0.768, 'pos': 0.224}\n",
            "Verizon Communication_Vestberg_2021.txt: {'neg': 0.039, 'neu': 0.803, 'pos': 0.158}\n",
            "IBM_Krishna_2021.txt: {'neg': 0.011, 'neu': 0.838, 'pos': 0.151}\n",
            "Cognizant_Humphries_2021.txt: {'neg': 0.006, 'neu': 0.821, 'pos': 0.174}\n",
            "Salesforce_Benioff_2021.txt: {'neg': 0.028, 'neu': 0.804, 'pos': 0.167}\n",
            "Rockwell Automation_Moret_2021.txt: {'neg': 0.019, 'neu': 0.756, 'pos': 0.225}\n",
            "Westinghouse Air Brake Technologies_Santana_2021.txt: {'neg': 0.004, 'neu': 0.793, 'pos': 0.203}\n",
            "UPS_Tome_2021.txt: {'neg': 0.012, 'neu': 0.786, 'pos': 0.201}\n",
            "Aramark_Zillmer_2021.txt: {'neg': 0.024, 'neu': 0.777, 'pos': 0.2}\n",
            "Cisco_Robbins_2021.txt: {'neg': 0.01, 'neu': 0.793, 'pos': 0.197}\n",
            "Microsoft_Nadella_2021.txt: {'neg': 0.032, 'neu': 0.775, 'pos': 0.194}\n",
            "Old Republic International_Smiddy_2021.txt: {'neg': 0.036, 'neu': 0.814, 'pos': 0.151}\n",
            "CDW_Leahy_2021.txt: {'neg': 0.021, 'neu': 0.803, 'pos': 0.177}\n",
            "FedEx_Smith_2021.txt: {'neg': 0.036, 'neu': 0.782, 'pos': 0.182}\n",
            "Intel_Gelsinger_2021.txt: {'neg': 0.005, 'neu': 0.749, 'pos': 0.247}\n",
            "Lumen Technologies_Storey_2020.txt: {'neg': 0.014, 'neu': 0.835, 'pos': 0.151}\n",
            "Amazon_Bezos_2020.txt: {'neg': 0.034, 'neu': 0.769, 'pos': 0.197}\n",
            "XPO Logistics_Jacobs_2021.txt: {'neg': 0.02, 'neu': 0.805, 'pos': 0.175}\n",
            "Adobe_Narayen_2022.txt: {'neg': 0.005, 'neu': 0.802, 'pos': 0.193}\n",
            "Becton Dickinson_Polen_2021.txt: {'neg': 0.012, 'neu': 0.784, 'pos': 0.204}\n",
            "Charter Communications_Rutledge_2021.txt: {'neg': 0.016, 'neu': 0.805, 'pos': 0.178}\n",
            "Raytheon Technologies_Hayes_2021.txt: {'neg': 0.024, 'neu': 0.794, 'pos': 0.181}\n",
            "Frontier Communications_McCarthy_2018.txt: {'neg': 0.013, 'neu': 0.782, 'pos': 0.205}\n",
            "DXC Technology_Salvino_2021.txt: {'neg': 0.02, 'neu': 0.746, 'pos': 0.234}\n",
            "Cerner_Feinberg_2021.txt: {'neg': 0.019, 'neu': 0.749, 'pos': 0.233}\n",
            "L3Harris Technologies_Kubasik_2021.txt: {'neg': 0.048, 'neu': 0.782, 'pos': 0.171}\n",
            "Advanced Micro Devices_Su_2022.txt: {'neg': 0.02, 'neu': 0.854, 'pos': 0.127}\n",
            "Liberty Media_Maffei_2020.txt: {'neg': 0.016, 'neu': 0.765, 'pos': 0.219}\n",
            "ATT_Stankey_2021.txt: {'neg': 0.031, 'neu': 0.748, 'pos': 0.22}\n",
            "Dell Technologies_Dell_2021.txt: {'neg': 0.018, 'neu': 0.779, 'pos': 0.203}\n"
          ]
        }
      ]
    },
    {
      "cell_type": "code",
      "source": [
        "## Check sentiment scores for a specific document"
      ],
      "metadata": {
        "id": "IInAP4X1O5aK"
      },
      "execution_count": null,
      "outputs": []
    },
    {
      "cell_type": "code",
      "source": [
        "### TOPIC MODELING"
      ],
      "metadata": {
        "id": "19rXNQFQ_QZ5"
      },
      "execution_count": null,
      "outputs": []
    },
    {
      "cell_type": "code",
      "source": [
        "!pip install bertopic\n",
        "\n",
        "from bertopic import BERTopic\n",
        "import pandas as pd\n",
        "import seaborn as sns\n",
        "import matplotlib.pyplot as plt"
      ],
      "metadata": {
        "colab": {
          "base_uri": "https://localhost:8080/"
        },
        "id": "VSdigsF7_Ohk",
        "outputId": "bd6e76d3-83d1-48b2-9830-2114d21f2072"
      },
      "execution_count": 78,
      "outputs": [
        {
          "output_type": "stream",
          "name": "stdout",
          "text": [
            "Collecting bertopic\n",
            "  Downloading bertopic-0.16.0-py2.py3-none-any.whl (154 kB)\n",
            "\u001b[?25l     \u001b[90m━━━━━━━━━━━━━━━━━━━━━━━━━━━━━━━━━━━━━━━━\u001b[0m \u001b[32m0.0/154.1 kB\u001b[0m \u001b[31m?\u001b[0m eta \u001b[36m-:--:--\u001b[0m\r\u001b[2K     \u001b[91m━━━━━━━━━━━━━━━━━━━━━━━━━━━━━\u001b[0m\u001b[90m╺\u001b[0m\u001b[90m━━━━━━━━━━\u001b[0m \u001b[32m112.6/154.1 kB\u001b[0m \u001b[31m3.4 MB/s\u001b[0m eta \u001b[36m0:00:01\u001b[0m\r\u001b[2K     \u001b[90m━━━━━━━━━━━━━━━━━━━━━━━━━━━━━━━━━━━━━━━━\u001b[0m \u001b[32m154.1/154.1 kB\u001b[0m \u001b[31m3.5 MB/s\u001b[0m eta \u001b[36m0:00:00\u001b[0m\n",
            "\u001b[?25hRequirement already satisfied: numpy>=1.20.0 in /usr/local/lib/python3.10/dist-packages (from bertopic) (1.25.2)\n",
            "Collecting hdbscan>=0.8.29 (from bertopic)\n",
            "  Downloading hdbscan-0.8.33.tar.gz (5.2 MB)\n",
            "\u001b[2K     \u001b[90m━━━━━━━━━━━━━━━━━━━━━━━━━━━━━━━━━━━━━━━━\u001b[0m \u001b[32m5.2/5.2 MB\u001b[0m \u001b[31m54.2 MB/s\u001b[0m eta \u001b[36m0:00:00\u001b[0m\n",
            "\u001b[?25h  Installing build dependencies ... \u001b[?25l\u001b[?25hdone\n",
            "  Getting requirements to build wheel ... \u001b[?25l\u001b[?25hdone\n",
            "  Preparing metadata (pyproject.toml) ... \u001b[?25l\u001b[?25hdone\n",
            "Collecting umap-learn>=0.5.0 (from bertopic)\n",
            "  Downloading umap-learn-0.5.5.tar.gz (90 kB)\n",
            "\u001b[2K     \u001b[90m━━━━━━━━━━━━━━━━━━━━━━━━━━━━━━━━━━━━━━━━\u001b[0m \u001b[32m90.9/90.9 kB\u001b[0m \u001b[31m14.2 MB/s\u001b[0m eta \u001b[36m0:00:00\u001b[0m\n",
            "\u001b[?25h  Preparing metadata (setup.py) ... \u001b[?25l\u001b[?25hdone\n",
            "Requirement already satisfied: pandas>=1.1.5 in /usr/local/lib/python3.10/dist-packages (from bertopic) (1.5.3)\n",
            "Requirement already satisfied: scikit-learn>=0.22.2.post1 in /usr/local/lib/python3.10/dist-packages (from bertopic) (1.2.2)\n",
            "Requirement already satisfied: tqdm>=4.41.1 in /usr/local/lib/python3.10/dist-packages (from bertopic) (4.66.2)\n",
            "Collecting sentence-transformers>=0.4.1 (from bertopic)\n",
            "  Downloading sentence_transformers-2.6.1-py3-none-any.whl (163 kB)\n",
            "\u001b[2K     \u001b[90m━━━━━━━━━━━━━━━━━━━━━━━━━━━━━━━━━━━━━━━━\u001b[0m \u001b[32m163.3/163.3 kB\u001b[0m \u001b[31m22.2 MB/s\u001b[0m eta \u001b[36m0:00:00\u001b[0m\n",
            "\u001b[?25hRequirement already satisfied: plotly>=4.7.0 in /usr/local/lib/python3.10/dist-packages (from bertopic) (5.15.0)\n",
            "Collecting cython<3,>=0.27 (from hdbscan>=0.8.29->bertopic)\n",
            "  Using cached Cython-0.29.37-cp310-cp310-manylinux_2_17_x86_64.manylinux2014_x86_64.manylinux_2_24_x86_64.whl (1.9 MB)\n",
            "Requirement already satisfied: scipy>=1.0 in /usr/local/lib/python3.10/dist-packages (from hdbscan>=0.8.29->bertopic) (1.11.4)\n",
            "Requirement already satisfied: joblib>=1.0 in /usr/local/lib/python3.10/dist-packages (from hdbscan>=0.8.29->bertopic) (1.3.2)\n",
            "Requirement already satisfied: python-dateutil>=2.8.1 in /usr/local/lib/python3.10/dist-packages (from pandas>=1.1.5->bertopic) (2.8.2)\n",
            "Requirement already satisfied: pytz>=2020.1 in /usr/local/lib/python3.10/dist-packages (from pandas>=1.1.5->bertopic) (2023.4)\n",
            "Requirement already satisfied: tenacity>=6.2.0 in /usr/local/lib/python3.10/dist-packages (from plotly>=4.7.0->bertopic) (8.2.3)\n",
            "Requirement already satisfied: packaging in /usr/local/lib/python3.10/dist-packages (from plotly>=4.7.0->bertopic) (24.0)\n",
            "Requirement already satisfied: threadpoolctl>=2.0.0 in /usr/local/lib/python3.10/dist-packages (from scikit-learn>=0.22.2.post1->bertopic) (3.4.0)\n",
            "Requirement already satisfied: transformers<5.0.0,>=4.32.0 in /usr/local/lib/python3.10/dist-packages (from sentence-transformers>=0.4.1->bertopic) (4.38.2)\n",
            "Requirement already satisfied: torch>=1.11.0 in /usr/local/lib/python3.10/dist-packages (from sentence-transformers>=0.4.1->bertopic) (2.2.1+cu121)\n",
            "Requirement already satisfied: huggingface-hub>=0.15.1 in /usr/local/lib/python3.10/dist-packages (from sentence-transformers>=0.4.1->bertopic) (0.20.3)\n",
            "Requirement already satisfied: Pillow in /usr/local/lib/python3.10/dist-packages (from sentence-transformers>=0.4.1->bertopic) (9.4.0)\n",
            "Requirement already satisfied: numba>=0.51.2 in /usr/local/lib/python3.10/dist-packages (from umap-learn>=0.5.0->bertopic) (0.58.1)\n",
            "Collecting pynndescent>=0.5 (from umap-learn>=0.5.0->bertopic)\n",
            "  Downloading pynndescent-0.5.12-py3-none-any.whl (56 kB)\n",
            "\u001b[2K     \u001b[90m━━━━━━━━━━━━━━━━━━━━━━━━━━━━━━━━━━━━━━━━\u001b[0m \u001b[32m56.8/56.8 kB\u001b[0m \u001b[31m9.1 MB/s\u001b[0m eta \u001b[36m0:00:00\u001b[0m\n",
            "\u001b[?25hRequirement already satisfied: filelock in /usr/local/lib/python3.10/dist-packages (from huggingface-hub>=0.15.1->sentence-transformers>=0.4.1->bertopic) (3.13.3)\n",
            "Requirement already satisfied: fsspec>=2023.5.0 in /usr/local/lib/python3.10/dist-packages (from huggingface-hub>=0.15.1->sentence-transformers>=0.4.1->bertopic) (2023.6.0)\n",
            "Requirement already satisfied: requests in /usr/local/lib/python3.10/dist-packages (from huggingface-hub>=0.15.1->sentence-transformers>=0.4.1->bertopic) (2.31.0)\n",
            "Requirement already satisfied: pyyaml>=5.1 in /usr/local/lib/python3.10/dist-packages (from huggingface-hub>=0.15.1->sentence-transformers>=0.4.1->bertopic) (6.0.1)\n",
            "Requirement already satisfied: typing-extensions>=3.7.4.3 in /usr/local/lib/python3.10/dist-packages (from huggingface-hub>=0.15.1->sentence-transformers>=0.4.1->bertopic) (4.10.0)\n",
            "Requirement already satisfied: llvmlite<0.42,>=0.41.0dev0 in /usr/local/lib/python3.10/dist-packages (from numba>=0.51.2->umap-learn>=0.5.0->bertopic) (0.41.1)\n",
            "Requirement already satisfied: six>=1.5 in /usr/local/lib/python3.10/dist-packages (from python-dateutil>=2.8.1->pandas>=1.1.5->bertopic) (1.16.0)\n",
            "Requirement already satisfied: sympy in /usr/local/lib/python3.10/dist-packages (from torch>=1.11.0->sentence-transformers>=0.4.1->bertopic) (1.12)\n",
            "Requirement already satisfied: networkx in /usr/local/lib/python3.10/dist-packages (from torch>=1.11.0->sentence-transformers>=0.4.1->bertopic) (3.2.1)\n",
            "Requirement already satisfied: jinja2 in /usr/local/lib/python3.10/dist-packages (from torch>=1.11.0->sentence-transformers>=0.4.1->bertopic) (3.1.3)\n",
            "Collecting nvidia-cuda-nvrtc-cu12==12.1.105 (from torch>=1.11.0->sentence-transformers>=0.4.1->bertopic)\n",
            "  Downloading nvidia_cuda_nvrtc_cu12-12.1.105-py3-none-manylinux1_x86_64.whl (23.7 MB)\n",
            "\u001b[2K     \u001b[90m━━━━━━━━━━━━━━━━━━━━━━━━━━━━━━━━━━━━━━━━\u001b[0m \u001b[32m23.7/23.7 MB\u001b[0m \u001b[31m57.6 MB/s\u001b[0m eta \u001b[36m0:00:00\u001b[0m\n",
            "\u001b[?25hCollecting nvidia-cuda-runtime-cu12==12.1.105 (from torch>=1.11.0->sentence-transformers>=0.4.1->bertopic)\n",
            "  Downloading nvidia_cuda_runtime_cu12-12.1.105-py3-none-manylinux1_x86_64.whl (823 kB)\n",
            "\u001b[2K     \u001b[90m━━━━━━━━━━━━━━━━━━━━━━━━━━━━━━━━━━━━━━━━\u001b[0m \u001b[32m823.6/823.6 kB\u001b[0m \u001b[31m43.9 MB/s\u001b[0m eta \u001b[36m0:00:00\u001b[0m\n",
            "\u001b[?25hCollecting nvidia-cuda-cupti-cu12==12.1.105 (from torch>=1.11.0->sentence-transformers>=0.4.1->bertopic)\n",
            "  Downloading nvidia_cuda_cupti_cu12-12.1.105-py3-none-manylinux1_x86_64.whl (14.1 MB)\n",
            "\u001b[2K     \u001b[90m━━━━━━━━━━━━━━━━━━━━━━━━━━━━━━━━━━━━━━━━\u001b[0m \u001b[32m14.1/14.1 MB\u001b[0m \u001b[31m83.4 MB/s\u001b[0m eta \u001b[36m0:00:00\u001b[0m\n",
            "\u001b[?25hCollecting nvidia-cudnn-cu12==8.9.2.26 (from torch>=1.11.0->sentence-transformers>=0.4.1->bertopic)\n",
            "  Downloading nvidia_cudnn_cu12-8.9.2.26-py3-none-manylinux1_x86_64.whl (731.7 MB)\n",
            "\u001b[2K     \u001b[90m━━━━━━━━━━━━━━━━━━━━━━━━━━━━━━━━━━━━━━━━\u001b[0m \u001b[32m731.7/731.7 MB\u001b[0m \u001b[31m1.1 MB/s\u001b[0m eta \u001b[36m0:00:00\u001b[0m\n",
            "\u001b[?25hCollecting nvidia-cublas-cu12==12.1.3.1 (from torch>=1.11.0->sentence-transformers>=0.4.1->bertopic)\n",
            "  Downloading nvidia_cublas_cu12-12.1.3.1-py3-none-manylinux1_x86_64.whl (410.6 MB)\n",
            "\u001b[2K     \u001b[90m━━━━━━━━━━━━━━━━━━━━━━━━━━━━━━━━━━━━━━━━\u001b[0m \u001b[32m410.6/410.6 MB\u001b[0m \u001b[31m2.1 MB/s\u001b[0m eta \u001b[36m0:00:00\u001b[0m\n",
            "\u001b[?25hCollecting nvidia-cufft-cu12==11.0.2.54 (from torch>=1.11.0->sentence-transformers>=0.4.1->bertopic)\n",
            "  Downloading nvidia_cufft_cu12-11.0.2.54-py3-none-manylinux1_x86_64.whl (121.6 MB)\n",
            "\u001b[2K     \u001b[90m━━━━━━━━━━━━━━━━━━━━━━━━━━━━━━━━━━━━━━━━\u001b[0m \u001b[32m121.6/121.6 MB\u001b[0m \u001b[31m8.6 MB/s\u001b[0m eta \u001b[36m0:00:00\u001b[0m\n",
            "\u001b[?25hCollecting nvidia-curand-cu12==10.3.2.106 (from torch>=1.11.0->sentence-transformers>=0.4.1->bertopic)\n",
            "  Downloading nvidia_curand_cu12-10.3.2.106-py3-none-manylinux1_x86_64.whl (56.5 MB)\n",
            "\u001b[2K     \u001b[90m━━━━━━━━━━━━━━━━━━━━━━━━━━━━━━━━━━━━━━━━\u001b[0m \u001b[32m56.5/56.5 MB\u001b[0m \u001b[31m11.1 MB/s\u001b[0m eta \u001b[36m0:00:00\u001b[0m\n",
            "\u001b[?25hCollecting nvidia-cusolver-cu12==11.4.5.107 (from torch>=1.11.0->sentence-transformers>=0.4.1->bertopic)\n",
            "  Downloading nvidia_cusolver_cu12-11.4.5.107-py3-none-manylinux1_x86_64.whl (124.2 MB)\n",
            "\u001b[2K     \u001b[90m━━━━━━━━━━━━━━━━━━━━━━━━━━━━━━━━━━━━━━━━\u001b[0m \u001b[32m124.2/124.2 MB\u001b[0m \u001b[31m7.5 MB/s\u001b[0m eta \u001b[36m0:00:00\u001b[0m\n",
            "\u001b[?25hCollecting nvidia-cusparse-cu12==12.1.0.106 (from torch>=1.11.0->sentence-transformers>=0.4.1->bertopic)\n",
            "  Downloading nvidia_cusparse_cu12-12.1.0.106-py3-none-manylinux1_x86_64.whl (196.0 MB)\n",
            "\u001b[2K     \u001b[90m━━━━━━━━━━━━━━━━━━━━━━━━━━━━━━━━━━━━━━━━\u001b[0m \u001b[32m196.0/196.0 MB\u001b[0m \u001b[31m4.3 MB/s\u001b[0m eta \u001b[36m0:00:00\u001b[0m\n",
            "\u001b[?25hCollecting nvidia-nccl-cu12==2.19.3 (from torch>=1.11.0->sentence-transformers>=0.4.1->bertopic)\n",
            "  Downloading nvidia_nccl_cu12-2.19.3-py3-none-manylinux1_x86_64.whl (166.0 MB)\n",
            "\u001b[2K     \u001b[90m━━━━━━━━━━━━━━━━━━━━━━━━━━━━━━━━━━━━━━━━\u001b[0m \u001b[32m166.0/166.0 MB\u001b[0m \u001b[31m2.3 MB/s\u001b[0m eta \u001b[36m0:00:00\u001b[0m\n",
            "\u001b[?25hCollecting nvidia-nvtx-cu12==12.1.105 (from torch>=1.11.0->sentence-transformers>=0.4.1->bertopic)\n",
            "  Downloading nvidia_nvtx_cu12-12.1.105-py3-none-manylinux1_x86_64.whl (99 kB)\n",
            "\u001b[2K     \u001b[90m━━━━━━━━━━━━━━━━━━━━━━━━━━━━━━━━━━━━━━━━\u001b[0m \u001b[32m99.1/99.1 kB\u001b[0m \u001b[31m15.2 MB/s\u001b[0m eta \u001b[36m0:00:00\u001b[0m\n",
            "\u001b[?25hRequirement already satisfied: triton==2.2.0 in /usr/local/lib/python3.10/dist-packages (from torch>=1.11.0->sentence-transformers>=0.4.1->bertopic) (2.2.0)\n",
            "Collecting nvidia-nvjitlink-cu12 (from nvidia-cusolver-cu12==11.4.5.107->torch>=1.11.0->sentence-transformers>=0.4.1->bertopic)\n",
            "  Downloading nvidia_nvjitlink_cu12-12.4.99-py3-none-manylinux2014_x86_64.whl (21.1 MB)\n",
            "\u001b[2K     \u001b[90m━━━━━━━━━━━━━━━━━━━━━━━━━━━━━━━━━━━━━━━━\u001b[0m \u001b[32m21.1/21.1 MB\u001b[0m \u001b[31m64.2 MB/s\u001b[0m eta \u001b[36m0:00:00\u001b[0m\n",
            "\u001b[?25hRequirement already satisfied: regex!=2019.12.17 in /usr/local/lib/python3.10/dist-packages (from transformers<5.0.0,>=4.32.0->sentence-transformers>=0.4.1->bertopic) (2023.12.25)\n",
            "Requirement already satisfied: tokenizers<0.19,>=0.14 in /usr/local/lib/python3.10/dist-packages (from transformers<5.0.0,>=4.32.0->sentence-transformers>=0.4.1->bertopic) (0.15.2)\n",
            "Requirement already satisfied: safetensors>=0.4.1 in /usr/local/lib/python3.10/dist-packages (from transformers<5.0.0,>=4.32.0->sentence-transformers>=0.4.1->bertopic) (0.4.2)\n",
            "Requirement already satisfied: MarkupSafe>=2.0 in /usr/local/lib/python3.10/dist-packages (from jinja2->torch>=1.11.0->sentence-transformers>=0.4.1->bertopic) (2.1.5)\n",
            "Requirement already satisfied: charset-normalizer<4,>=2 in /usr/local/lib/python3.10/dist-packages (from requests->huggingface-hub>=0.15.1->sentence-transformers>=0.4.1->bertopic) (3.3.2)\n",
            "Requirement already satisfied: idna<4,>=2.5 in /usr/local/lib/python3.10/dist-packages (from requests->huggingface-hub>=0.15.1->sentence-transformers>=0.4.1->bertopic) (3.6)\n",
            "Requirement already satisfied: urllib3<3,>=1.21.1 in /usr/local/lib/python3.10/dist-packages (from requests->huggingface-hub>=0.15.1->sentence-transformers>=0.4.1->bertopic) (2.0.7)\n",
            "Requirement already satisfied: certifi>=2017.4.17 in /usr/local/lib/python3.10/dist-packages (from requests->huggingface-hub>=0.15.1->sentence-transformers>=0.4.1->bertopic) (2024.2.2)\n",
            "Requirement already satisfied: mpmath>=0.19 in /usr/local/lib/python3.10/dist-packages (from sympy->torch>=1.11.0->sentence-transformers>=0.4.1->bertopic) (1.3.0)\n",
            "Building wheels for collected packages: hdbscan, umap-learn\n",
            "  Building wheel for hdbscan (pyproject.toml) ... \u001b[?25l\u001b[?25hdone\n",
            "  Created wheel for hdbscan: filename=hdbscan-0.8.33-cp310-cp310-linux_x86_64.whl size=3039289 sha256=2e48d7f8fb843a3940aa9d4f048ece2d1f03e27422c99cfbcfd51f3b70c1c890\n",
            "  Stored in directory: /root/.cache/pip/wheels/75/0b/3b/dc4f60b7cc455efaefb62883a7483e76f09d06ca81cf87d610\n",
            "  Building wheel for umap-learn (setup.py) ... \u001b[?25l\u001b[?25hdone\n",
            "  Created wheel for umap-learn: filename=umap_learn-0.5.5-py3-none-any.whl size=86832 sha256=da71b9d85478eeee67b8356dfcb020cc71bc106d50b1c185be12a2e73aba870a\n",
            "  Stored in directory: /root/.cache/pip/wheels/3a/70/07/428d2b58660a1a3b431db59b806a10da736612ebbc66c1bcc5\n",
            "Successfully built hdbscan umap-learn\n",
            "Installing collected packages: nvidia-nvtx-cu12, nvidia-nvjitlink-cu12, nvidia-nccl-cu12, nvidia-curand-cu12, nvidia-cufft-cu12, nvidia-cuda-runtime-cu12, nvidia-cuda-nvrtc-cu12, nvidia-cuda-cupti-cu12, nvidia-cublas-cu12, cython, nvidia-cusparse-cu12, nvidia-cudnn-cu12, pynndescent, nvidia-cusolver-cu12, hdbscan, umap-learn, sentence-transformers, bertopic\n",
            "  Attempting uninstall: cython\n",
            "    Found existing installation: Cython 3.0.10\n",
            "    Uninstalling Cython-3.0.10:\n",
            "      Successfully uninstalled Cython-3.0.10\n",
            "Successfully installed bertopic-0.16.0 cython-0.29.37 hdbscan-0.8.33 nvidia-cublas-cu12-12.1.3.1 nvidia-cuda-cupti-cu12-12.1.105 nvidia-cuda-nvrtc-cu12-12.1.105 nvidia-cuda-runtime-cu12-12.1.105 nvidia-cudnn-cu12-8.9.2.26 nvidia-cufft-cu12-11.0.2.54 nvidia-curand-cu12-10.3.2.106 nvidia-cusolver-cu12-11.4.5.107 nvidia-cusparse-cu12-12.1.0.106 nvidia-nccl-cu12-2.19.3 nvidia-nvjitlink-cu12-12.4.99 nvidia-nvtx-cu12-12.1.105 pynndescent-0.5.12 sentence-transformers-2.6.1 umap-learn-0.5.5\n"
          ]
        }
      ]
    },
    {
      "cell_type": "code",
      "source": [
        "import nltk\n",
        "nltk.download('stopwords')\n",
        "# Step 1: Prepare the data (including removing stopwords and punctuation)\n",
        "stop_words = set(stopwords.words('english'))\n",
        "custom_stop_words = {\"one\", \"year\", \"us\", \"also\"}  # Exclude specific stopwords\n",
        "stop_words.update(custom_stop_words)\n",
        "\n",
        "documents_per_company_preprocessed = []\n",
        "\n",
        "for company_name in consolidated_data.keys():\n",
        "    # Join the content of all files for each company into a single string\n",
        "    documents = ' '.join([str(content) for file_name, content in consolidated_data.items() if company_name in file_name])\n",
        "\n",
        "    # Remove stopwords and punctuation\n",
        "    documents_cleaned = ' '.join(word for word in documents.split() if word.lower() not in stop_words\n",
        "                                 and word.lower() not in string.punctuation)\n",
        "\n",
        "    documents_per_company_preprocessed.append(documents_cleaned)\n",
        "\n",
        "# Step 2: Apply topic modeling (BERTopic) on preprocessed data\n",
        "topic_model = BERTopic()\n",
        "topics, _ = topic_model.fit_transform(documents_per_company_preprocessed)\n",
        "\n",
        "# Get the topic names\n",
        "topic_names = topic_model.get_topics()\n",
        "\n",
        "# Extract numerical values representing years from the documents\n",
        "years = [word for document in documents_per_company_preprocessed for word in document.split() if word.isdigit()]\n",
        "\n",
        "# Keep track of words already assigned to topics\n",
        "assigned_words = set()\n",
        "\n",
        "# Print out the names of each topic\n",
        "for topic_id, topic_words in topic_names.items():\n",
        "    words = []\n",
        "    for word, _ in topic_words:\n",
        "        # Exclude words identified as years\n",
        "        if word not in years and word not in assigned_words and len(words) < 5:\n",
        "            words.append(word)\n",
        "            assigned_words.add(word)\n",
        "\n",
        "    # If the topic does not have 5 unique words, add additional words from the existing list\n",
        "    while len(words) < 5:\n",
        "        for word, _ in topic_words:\n",
        "            if word not in words and word not in years and len(words) < 5:\n",
        "                words.append(word)\n",
        "\n",
        "    print(f\"Topic {topic_id}: {', '.join(words)}\")  # Print the words for each topic\n"
      ],
      "metadata": {
        "colab": {
          "base_uri": "https://localhost:8080/"
        },
        "id": "Z1sYzr42Q9Y8",
        "outputId": "c58f8f0c-8a40-406f-b15b-f58f7d54f35e"
      },
      "execution_count": 86,
      "outputs": [
        {
          "output_type": "stream",
          "name": "stderr",
          "text": [
            "[nltk_data] Downloading package stopwords to /root/nltk_data...\n",
            "[nltk_data]   Package stopwords is already up-to-date!\n"
          ]
        },
        {
          "output_type": "stream",
          "name": "stdout",
          "text": [
            "Topic -1: customers, new, work, business, billion\n",
            "Topic 0: growth, paccar, company, million, insurance\n",
            "Topic 1: clients, ibm, solutions, 3m, year\n"
          ]
        }
      ]
    }
  ]
}